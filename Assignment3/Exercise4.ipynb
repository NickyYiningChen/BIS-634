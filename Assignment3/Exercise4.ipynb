{
 "cells": [
  {
   "cell_type": "markdown",
   "id": "0297e925",
   "metadata": {},
   "source": [
    "#### Identify a data set online: \n",
    "I'm intrigued by this fetal health data on Kaggle. I want to predict the fetal health using other variables and futher to prevent child and maternal mortality. Everyone is able to access and download it from this link: \n",
    "https://www.kaggle.com/datasets/andrewmvd/fetal-health-classification"
   ]
  },
  {
   "cell_type": "markdown",
   "id": "0ed4b0bf",
   "metadata": {},
   "source": [
    "#### Describe the dataset\n",
    "##### how many variables? \n",
    "There are 22 variables as following: \\\n",
    "-baseline value: The baseline fetal heart rate \\\n",
    "-accelerations: Number of accelerations per second \\\n",
    "-fetal_movement: Number of fetal movements per second \\\n",
    "-uterine_contractions: Number of uterine contractions per second \\\n",
    "-light_decelerations: Number of LDs per second \\\n",
    "-severe_decelerations: Number of SDs per second \\ \n",
    "-prolongued_decelerations: Number of PDs per second \\\n",
    "-abnormal_short_term_variability: Percentage of time with abnormal short term variability \\\n",
    "-mean_value_of_short_term_variability: Mean value of short term variability \\\n",
    "-percentage_of_time_with_abnormal_long_term_variability: Percentage of time with abnormal long term variability \\\n",
    "-mean_value_of_long_term_variability: Mean value of long term variability \\\n",
    "-histogram_width- Width of FHR histogram\n",
    "-histogram_min- Minimum (low frequency) of FHR histogram\n",
    "-histogram_max'- Maximum (high frequency) of FHR histogram\n",
    "-histogram_number_of_peaks'- Number of histogram peaks\n",
    "-histogram_number_of_zeroes'- Number of histogram zeros\n",
    "-histogram_mode'- Histogram mode\n",
    "-histogram_mean'- Histogram mean\n",
    "-histogram_median'- Histogram median\n",
    "-histogram_variance'- Histogram variance\n",
    "-histogram_tendency'- Histogram tendency\n",
    "-fetal_health: Fetal health: 1 - Normal 2 - Suspect 3 - Pathological\n",
    "##### Are the key variables explicitly specified or are they things you would have to derive (e.g. by inferring from text)?\n",
    "No. All variables are explicitly specified.\n",
    "##### Are any of the variables exactly derivable from other variables? (i.e. are any of them redundant?) \n",
    "The histogram_tendency is a redundancy since it can be derived by histogram mean and histogram variance. \n",
    "##### Are there any variables that could in principle be statistically predicted from other variables?\n",
    "Yes. I think I can predict the fetal health using other variables, such as baseline value, accelerations, fetal_movement, abnormal_short_term_variability, and so on.\n",
    "##### How many rows/data points are there?\n",
    "There are 2126 rows of data in this dataset.\n",
    "##### Is the data in a standard format? If not, how could you convert it to a standard format?\n",
    "From the dataframe below, we can see that data is in a standard format. Here is basic information. All the values are numerical values and there are no missing values since the count=2126 for all variables"
   ]
  },
  {
   "cell_type": "code",
   "execution_count": 141,
   "id": "78b9ba83",
   "metadata": {},
   "outputs": [],
   "source": [
    "import pandas as pd\n",
    "df = pd.read_csv('fetal_health.csv')  "
   ]
  },
  {
   "cell_type": "code",
   "execution_count": 142,
   "id": "83880146",
   "metadata": {},
   "outputs": [
    {
     "data": {
      "text/html": [
       "<div>\n",
       "<style scoped>\n",
       "    .dataframe tbody tr th:only-of-type {\n",
       "        vertical-align: middle;\n",
       "    }\n",
       "\n",
       "    .dataframe tbody tr th {\n",
       "        vertical-align: top;\n",
       "    }\n",
       "\n",
       "    .dataframe thead th {\n",
       "        text-align: right;\n",
       "    }\n",
       "</style>\n",
       "<table border=\"1\" class=\"dataframe\">\n",
       "  <thead>\n",
       "    <tr style=\"text-align: right;\">\n",
       "      <th></th>\n",
       "      <th>baseline value</th>\n",
       "      <th>accelerations</th>\n",
       "      <th>fetal_movement</th>\n",
       "      <th>uterine_contractions</th>\n",
       "      <th>light_decelerations</th>\n",
       "      <th>severe_decelerations</th>\n",
       "      <th>prolongued_decelerations</th>\n",
       "      <th>abnormal_short_term_variability</th>\n",
       "      <th>mean_value_of_short_term_variability</th>\n",
       "      <th>percentage_of_time_with_abnormal_long_term_variability</th>\n",
       "      <th>...</th>\n",
       "      <th>histogram_min</th>\n",
       "      <th>histogram_max</th>\n",
       "      <th>histogram_number_of_peaks</th>\n",
       "      <th>histogram_number_of_zeroes</th>\n",
       "      <th>histogram_mode</th>\n",
       "      <th>histogram_mean</th>\n",
       "      <th>histogram_median</th>\n",
       "      <th>histogram_variance</th>\n",
       "      <th>histogram_tendency</th>\n",
       "      <th>fetal_health</th>\n",
       "    </tr>\n",
       "  </thead>\n",
       "  <tbody>\n",
       "    <tr>\n",
       "      <th>count</th>\n",
       "      <td>2126.000000</td>\n",
       "      <td>2126.000000</td>\n",
       "      <td>2126.000000</td>\n",
       "      <td>2126.000000</td>\n",
       "      <td>2126.000000</td>\n",
       "      <td>2126.000000</td>\n",
       "      <td>2126.000000</td>\n",
       "      <td>2126.000000</td>\n",
       "      <td>2126.000000</td>\n",
       "      <td>2126.00000</td>\n",
       "      <td>...</td>\n",
       "      <td>2126.000000</td>\n",
       "      <td>2126.000000</td>\n",
       "      <td>2126.000000</td>\n",
       "      <td>2126.000000</td>\n",
       "      <td>2126.000000</td>\n",
       "      <td>2126.000000</td>\n",
       "      <td>2126.000000</td>\n",
       "      <td>2126.000000</td>\n",
       "      <td>2126.000000</td>\n",
       "      <td>2126.000000</td>\n",
       "    </tr>\n",
       "    <tr>\n",
       "      <th>mean</th>\n",
       "      <td>133.303857</td>\n",
       "      <td>0.003178</td>\n",
       "      <td>0.009481</td>\n",
       "      <td>0.004366</td>\n",
       "      <td>0.001889</td>\n",
       "      <td>0.000003</td>\n",
       "      <td>0.000159</td>\n",
       "      <td>46.990122</td>\n",
       "      <td>1.332785</td>\n",
       "      <td>9.84666</td>\n",
       "      <td>...</td>\n",
       "      <td>93.579492</td>\n",
       "      <td>164.025400</td>\n",
       "      <td>4.068203</td>\n",
       "      <td>0.323612</td>\n",
       "      <td>137.452023</td>\n",
       "      <td>134.610536</td>\n",
       "      <td>138.090310</td>\n",
       "      <td>18.808090</td>\n",
       "      <td>0.320320</td>\n",
       "      <td>1.304327</td>\n",
       "    </tr>\n",
       "    <tr>\n",
       "      <th>std</th>\n",
       "      <td>9.840844</td>\n",
       "      <td>0.003866</td>\n",
       "      <td>0.046666</td>\n",
       "      <td>0.002946</td>\n",
       "      <td>0.002960</td>\n",
       "      <td>0.000057</td>\n",
       "      <td>0.000590</td>\n",
       "      <td>17.192814</td>\n",
       "      <td>0.883241</td>\n",
       "      <td>18.39688</td>\n",
       "      <td>...</td>\n",
       "      <td>29.560212</td>\n",
       "      <td>17.944183</td>\n",
       "      <td>2.949386</td>\n",
       "      <td>0.706059</td>\n",
       "      <td>16.381289</td>\n",
       "      <td>15.593596</td>\n",
       "      <td>14.466589</td>\n",
       "      <td>28.977636</td>\n",
       "      <td>0.610829</td>\n",
       "      <td>0.614377</td>\n",
       "    </tr>\n",
       "    <tr>\n",
       "      <th>min</th>\n",
       "      <td>106.000000</td>\n",
       "      <td>0.000000</td>\n",
       "      <td>0.000000</td>\n",
       "      <td>0.000000</td>\n",
       "      <td>0.000000</td>\n",
       "      <td>0.000000</td>\n",
       "      <td>0.000000</td>\n",
       "      <td>12.000000</td>\n",
       "      <td>0.200000</td>\n",
       "      <td>0.00000</td>\n",
       "      <td>...</td>\n",
       "      <td>50.000000</td>\n",
       "      <td>122.000000</td>\n",
       "      <td>0.000000</td>\n",
       "      <td>0.000000</td>\n",
       "      <td>60.000000</td>\n",
       "      <td>73.000000</td>\n",
       "      <td>77.000000</td>\n",
       "      <td>0.000000</td>\n",
       "      <td>-1.000000</td>\n",
       "      <td>1.000000</td>\n",
       "    </tr>\n",
       "    <tr>\n",
       "      <th>25%</th>\n",
       "      <td>126.000000</td>\n",
       "      <td>0.000000</td>\n",
       "      <td>0.000000</td>\n",
       "      <td>0.002000</td>\n",
       "      <td>0.000000</td>\n",
       "      <td>0.000000</td>\n",
       "      <td>0.000000</td>\n",
       "      <td>32.000000</td>\n",
       "      <td>0.700000</td>\n",
       "      <td>0.00000</td>\n",
       "      <td>...</td>\n",
       "      <td>67.000000</td>\n",
       "      <td>152.000000</td>\n",
       "      <td>2.000000</td>\n",
       "      <td>0.000000</td>\n",
       "      <td>129.000000</td>\n",
       "      <td>125.000000</td>\n",
       "      <td>129.000000</td>\n",
       "      <td>2.000000</td>\n",
       "      <td>0.000000</td>\n",
       "      <td>1.000000</td>\n",
       "    </tr>\n",
       "    <tr>\n",
       "      <th>50%</th>\n",
       "      <td>133.000000</td>\n",
       "      <td>0.002000</td>\n",
       "      <td>0.000000</td>\n",
       "      <td>0.004000</td>\n",
       "      <td>0.000000</td>\n",
       "      <td>0.000000</td>\n",
       "      <td>0.000000</td>\n",
       "      <td>49.000000</td>\n",
       "      <td>1.200000</td>\n",
       "      <td>0.00000</td>\n",
       "      <td>...</td>\n",
       "      <td>93.000000</td>\n",
       "      <td>162.000000</td>\n",
       "      <td>3.000000</td>\n",
       "      <td>0.000000</td>\n",
       "      <td>139.000000</td>\n",
       "      <td>136.000000</td>\n",
       "      <td>139.000000</td>\n",
       "      <td>7.000000</td>\n",
       "      <td>0.000000</td>\n",
       "      <td>1.000000</td>\n",
       "    </tr>\n",
       "    <tr>\n",
       "      <th>75%</th>\n",
       "      <td>140.000000</td>\n",
       "      <td>0.006000</td>\n",
       "      <td>0.003000</td>\n",
       "      <td>0.007000</td>\n",
       "      <td>0.003000</td>\n",
       "      <td>0.000000</td>\n",
       "      <td>0.000000</td>\n",
       "      <td>61.000000</td>\n",
       "      <td>1.700000</td>\n",
       "      <td>11.00000</td>\n",
       "      <td>...</td>\n",
       "      <td>120.000000</td>\n",
       "      <td>174.000000</td>\n",
       "      <td>6.000000</td>\n",
       "      <td>0.000000</td>\n",
       "      <td>148.000000</td>\n",
       "      <td>145.000000</td>\n",
       "      <td>148.000000</td>\n",
       "      <td>24.000000</td>\n",
       "      <td>1.000000</td>\n",
       "      <td>1.000000</td>\n",
       "    </tr>\n",
       "    <tr>\n",
       "      <th>max</th>\n",
       "      <td>160.000000</td>\n",
       "      <td>0.019000</td>\n",
       "      <td>0.481000</td>\n",
       "      <td>0.015000</td>\n",
       "      <td>0.015000</td>\n",
       "      <td>0.001000</td>\n",
       "      <td>0.005000</td>\n",
       "      <td>87.000000</td>\n",
       "      <td>7.000000</td>\n",
       "      <td>91.00000</td>\n",
       "      <td>...</td>\n",
       "      <td>159.000000</td>\n",
       "      <td>238.000000</td>\n",
       "      <td>18.000000</td>\n",
       "      <td>10.000000</td>\n",
       "      <td>187.000000</td>\n",
       "      <td>182.000000</td>\n",
       "      <td>186.000000</td>\n",
       "      <td>269.000000</td>\n",
       "      <td>1.000000</td>\n",
       "      <td>3.000000</td>\n",
       "    </tr>\n",
       "  </tbody>\n",
       "</table>\n",
       "<p>8 rows × 22 columns</p>\n",
       "</div>"
      ],
      "text/plain": [
       "       baseline value  accelerations  fetal_movement  uterine_contractions  \\\n",
       "count     2126.000000    2126.000000     2126.000000           2126.000000   \n",
       "mean       133.303857       0.003178        0.009481              0.004366   \n",
       "std          9.840844       0.003866        0.046666              0.002946   \n",
       "min        106.000000       0.000000        0.000000              0.000000   \n",
       "25%        126.000000       0.000000        0.000000              0.002000   \n",
       "50%        133.000000       0.002000        0.000000              0.004000   \n",
       "75%        140.000000       0.006000        0.003000              0.007000   \n",
       "max        160.000000       0.019000        0.481000              0.015000   \n",
       "\n",
       "       light_decelerations  severe_decelerations  prolongued_decelerations  \\\n",
       "count          2126.000000           2126.000000               2126.000000   \n",
       "mean              0.001889              0.000003                  0.000159   \n",
       "std               0.002960              0.000057                  0.000590   \n",
       "min               0.000000              0.000000                  0.000000   \n",
       "25%               0.000000              0.000000                  0.000000   \n",
       "50%               0.000000              0.000000                  0.000000   \n",
       "75%               0.003000              0.000000                  0.000000   \n",
       "max               0.015000              0.001000                  0.005000   \n",
       "\n",
       "       abnormal_short_term_variability  mean_value_of_short_term_variability  \\\n",
       "count                      2126.000000                           2126.000000   \n",
       "mean                         46.990122                              1.332785   \n",
       "std                          17.192814                              0.883241   \n",
       "min                          12.000000                              0.200000   \n",
       "25%                          32.000000                              0.700000   \n",
       "50%                          49.000000                              1.200000   \n",
       "75%                          61.000000                              1.700000   \n",
       "max                          87.000000                              7.000000   \n",
       "\n",
       "       percentage_of_time_with_abnormal_long_term_variability  ...  \\\n",
       "count                                         2126.00000       ...   \n",
       "mean                                             9.84666       ...   \n",
       "std                                             18.39688       ...   \n",
       "min                                              0.00000       ...   \n",
       "25%                                              0.00000       ...   \n",
       "50%                                              0.00000       ...   \n",
       "75%                                             11.00000       ...   \n",
       "max                                             91.00000       ...   \n",
       "\n",
       "       histogram_min  histogram_max  histogram_number_of_peaks  \\\n",
       "count    2126.000000    2126.000000                2126.000000   \n",
       "mean       93.579492     164.025400                   4.068203   \n",
       "std        29.560212      17.944183                   2.949386   \n",
       "min        50.000000     122.000000                   0.000000   \n",
       "25%        67.000000     152.000000                   2.000000   \n",
       "50%        93.000000     162.000000                   3.000000   \n",
       "75%       120.000000     174.000000                   6.000000   \n",
       "max       159.000000     238.000000                  18.000000   \n",
       "\n",
       "       histogram_number_of_zeroes  histogram_mode  histogram_mean  \\\n",
       "count                 2126.000000     2126.000000     2126.000000   \n",
       "mean                     0.323612      137.452023      134.610536   \n",
       "std                      0.706059       16.381289       15.593596   \n",
       "min                      0.000000       60.000000       73.000000   \n",
       "25%                      0.000000      129.000000      125.000000   \n",
       "50%                      0.000000      139.000000      136.000000   \n",
       "75%                      0.000000      148.000000      145.000000   \n",
       "max                     10.000000      187.000000      182.000000   \n",
       "\n",
       "       histogram_median  histogram_variance  histogram_tendency  fetal_health  \n",
       "count       2126.000000         2126.000000         2126.000000   2126.000000  \n",
       "mean         138.090310           18.808090            0.320320      1.304327  \n",
       "std           14.466589           28.977636            0.610829      0.614377  \n",
       "min           77.000000            0.000000           -1.000000      1.000000  \n",
       "25%          129.000000            2.000000            0.000000      1.000000  \n",
       "50%          139.000000            7.000000            0.000000      1.000000  \n",
       "75%          148.000000           24.000000            1.000000      1.000000  \n",
       "max          186.000000          269.000000            1.000000      3.000000  \n",
       "\n",
       "[8 rows x 22 columns]"
      ]
     },
     "execution_count": 142,
     "metadata": {},
     "output_type": "execute_result"
    }
   ],
   "source": [
    "df.describe()"
   ]
  },
  {
   "cell_type": "markdown",
   "id": "5a5ddbd8",
   "metadata": {},
   "source": [
    "#### Describe the terms of use and identify any key restrictions (e.g. do you have to officially apply to get access to the data? Are there certain types of analyses you can't do?)\n",
    "So far I have not seen any type of analyses that I can't do using the dataset I found.\n",
    "My preliminary plan for the final project is to predict the fetal health using other variables of the fetus. I am thing about doing some logistic regressions on this dataset. \n",
    "I think the key restriction may be that the regression result is very significant, because I only have ten independent variables, but a person’s behavior sometimes is more complicated.\n",
    "The key restriction is that the result may not be highly accurate since for the independent variables, we only have 20 variables to chose from. So we may not be able to reach the significant level we want using those variables. "
   ]
  },
  {
   "cell_type": "markdown",
   "id": "027f34dc",
   "metadata": {},
   "source": [
    "#### Do you have to officially apply to get access to the data?\n",
    "I do not have to offcially apply to get access to the data since it's open source. But I do need to cite the contributor of this dataset: \\\n",
    "Ayres de Campos et al. (2000) SisPorto 2.0 A Program for Automated Analysis of Cardiotocograms. J Matern Fetal Med 5:311-318"
   ]
  },
  {
   "cell_type": "markdown",
   "id": "4918d509",
   "metadata": {},
   "source": [
    "#### Identify any data cleaning needs (this includes checking for missing data) and write code to perform them. If the data does not need to be cleaned, explain how you reached this conclusion.\n",
    "From the code below, we can see that most values in 'severe_decelerations' and 'prolongued_decelerations' are zero. My prediction is that maybe they are actually missing data but it's already cleaned by previous researchers and they impute 0 as the value when there's missing data."
   ]
  },
  {
   "cell_type": "code",
   "execution_count": 143,
   "id": "5e4c25cc",
   "metadata": {},
   "outputs": [
    {
     "name": "stdout",
     "output_type": "stream",
     "text": [
      "0    0.0\n",
      "Name: severe_decelerations, dtype: float64\n",
      "0    0.0\n",
      "Name: prolongued_decelerations, dtype: float64\n"
     ]
    }
   ],
   "source": [
    "print(df['severe_decelerations'].mode())\n",
    "print(df['prolongued_decelerations'].mode())"
   ]
  },
  {
   "cell_type": "markdown",
   "id": "082f8baa",
   "metadata": {},
   "source": [
    "As for the data cleaning, I dropped the columns of 'severe_decelerations' and 'prolongued_decelerations' since they contains too many missing data. And I also dropped 'histogram_tendency' since it can be derived from other variables.\n",
    "Also, in my project, I want to set the independent variables as: baseline value, accelerations, fetal_movement, uterine_contractions, light_decelerations, mean_value_of_short_term_variability, mean_value_of_long_term_variability, histogram_width, histogram_min, histogram_max, histogram_number_of_peaks ,histogram_mode, histogram_mean, histogram_variance. So I will drop all other columns other than the independent variables. "
   ]
  },
  {
   "cell_type": "code",
   "execution_count": 144,
   "id": "7a69523f",
   "metadata": {
    "scrolled": true
   },
   "outputs": [
    {
     "data": {
      "text/html": [
       "<div>\n",
       "<style scoped>\n",
       "    .dataframe tbody tr th:only-of-type {\n",
       "        vertical-align: middle;\n",
       "    }\n",
       "\n",
       "    .dataframe tbody tr th {\n",
       "        vertical-align: top;\n",
       "    }\n",
       "\n",
       "    .dataframe thead th {\n",
       "        text-align: right;\n",
       "    }\n",
       "</style>\n",
       "<table border=\"1\" class=\"dataframe\">\n",
       "  <thead>\n",
       "    <tr style=\"text-align: right;\">\n",
       "      <th></th>\n",
       "      <th>baseline value</th>\n",
       "      <th>accelerations</th>\n",
       "      <th>fetal_movement</th>\n",
       "      <th>uterine_contractions</th>\n",
       "      <th>light_decelerations</th>\n",
       "      <th>mean_value_of_short_term_variability</th>\n",
       "      <th>mean_value_of_long_term_variability</th>\n",
       "      <th>histogram_width</th>\n",
       "      <th>histogram_min</th>\n",
       "      <th>histogram_max</th>\n",
       "      <th>histogram_number_of_peaks</th>\n",
       "      <th>histogram_mode</th>\n",
       "      <th>histogram_mean</th>\n",
       "      <th>histogram_median</th>\n",
       "      <th>histogram_variance</th>\n",
       "      <th>fetal_health</th>\n",
       "    </tr>\n",
       "  </thead>\n",
       "  <tbody>\n",
       "    <tr>\n",
       "      <th>0</th>\n",
       "      <td>120.0</td>\n",
       "      <td>0.000</td>\n",
       "      <td>0.000</td>\n",
       "      <td>0.000</td>\n",
       "      <td>0.000</td>\n",
       "      <td>0.5</td>\n",
       "      <td>2.4</td>\n",
       "      <td>64.0</td>\n",
       "      <td>62.0</td>\n",
       "      <td>126.0</td>\n",
       "      <td>2.0</td>\n",
       "      <td>120.0</td>\n",
       "      <td>137.0</td>\n",
       "      <td>121.0</td>\n",
       "      <td>73.0</td>\n",
       "      <td>2.0</td>\n",
       "    </tr>\n",
       "    <tr>\n",
       "      <th>1</th>\n",
       "      <td>132.0</td>\n",
       "      <td>0.006</td>\n",
       "      <td>0.000</td>\n",
       "      <td>0.006</td>\n",
       "      <td>0.003</td>\n",
       "      <td>2.1</td>\n",
       "      <td>10.4</td>\n",
       "      <td>130.0</td>\n",
       "      <td>68.0</td>\n",
       "      <td>198.0</td>\n",
       "      <td>6.0</td>\n",
       "      <td>141.0</td>\n",
       "      <td>136.0</td>\n",
       "      <td>140.0</td>\n",
       "      <td>12.0</td>\n",
       "      <td>1.0</td>\n",
       "    </tr>\n",
       "    <tr>\n",
       "      <th>2</th>\n",
       "      <td>133.0</td>\n",
       "      <td>0.003</td>\n",
       "      <td>0.000</td>\n",
       "      <td>0.008</td>\n",
       "      <td>0.003</td>\n",
       "      <td>2.1</td>\n",
       "      <td>13.4</td>\n",
       "      <td>130.0</td>\n",
       "      <td>68.0</td>\n",
       "      <td>198.0</td>\n",
       "      <td>5.0</td>\n",
       "      <td>141.0</td>\n",
       "      <td>135.0</td>\n",
       "      <td>138.0</td>\n",
       "      <td>13.0</td>\n",
       "      <td>1.0</td>\n",
       "    </tr>\n",
       "    <tr>\n",
       "      <th>3</th>\n",
       "      <td>134.0</td>\n",
       "      <td>0.003</td>\n",
       "      <td>0.000</td>\n",
       "      <td>0.008</td>\n",
       "      <td>0.003</td>\n",
       "      <td>2.4</td>\n",
       "      <td>23.0</td>\n",
       "      <td>117.0</td>\n",
       "      <td>53.0</td>\n",
       "      <td>170.0</td>\n",
       "      <td>11.0</td>\n",
       "      <td>137.0</td>\n",
       "      <td>134.0</td>\n",
       "      <td>137.0</td>\n",
       "      <td>13.0</td>\n",
       "      <td>1.0</td>\n",
       "    </tr>\n",
       "    <tr>\n",
       "      <th>4</th>\n",
       "      <td>132.0</td>\n",
       "      <td>0.007</td>\n",
       "      <td>0.000</td>\n",
       "      <td>0.008</td>\n",
       "      <td>0.000</td>\n",
       "      <td>2.4</td>\n",
       "      <td>19.9</td>\n",
       "      <td>117.0</td>\n",
       "      <td>53.0</td>\n",
       "      <td>170.0</td>\n",
       "      <td>9.0</td>\n",
       "      <td>137.0</td>\n",
       "      <td>136.0</td>\n",
       "      <td>138.0</td>\n",
       "      <td>11.0</td>\n",
       "      <td>1.0</td>\n",
       "    </tr>\n",
       "    <tr>\n",
       "      <th>...</th>\n",
       "      <td>...</td>\n",
       "      <td>...</td>\n",
       "      <td>...</td>\n",
       "      <td>...</td>\n",
       "      <td>...</td>\n",
       "      <td>...</td>\n",
       "      <td>...</td>\n",
       "      <td>...</td>\n",
       "      <td>...</td>\n",
       "      <td>...</td>\n",
       "      <td>...</td>\n",
       "      <td>...</td>\n",
       "      <td>...</td>\n",
       "      <td>...</td>\n",
       "      <td>...</td>\n",
       "      <td>...</td>\n",
       "    </tr>\n",
       "    <tr>\n",
       "      <th>2121</th>\n",
       "      <td>140.0</td>\n",
       "      <td>0.000</td>\n",
       "      <td>0.000</td>\n",
       "      <td>0.007</td>\n",
       "      <td>0.000</td>\n",
       "      <td>0.2</td>\n",
       "      <td>7.2</td>\n",
       "      <td>40.0</td>\n",
       "      <td>137.0</td>\n",
       "      <td>177.0</td>\n",
       "      <td>4.0</td>\n",
       "      <td>153.0</td>\n",
       "      <td>150.0</td>\n",
       "      <td>152.0</td>\n",
       "      <td>2.0</td>\n",
       "      <td>2.0</td>\n",
       "    </tr>\n",
       "    <tr>\n",
       "      <th>2122</th>\n",
       "      <td>140.0</td>\n",
       "      <td>0.001</td>\n",
       "      <td>0.000</td>\n",
       "      <td>0.007</td>\n",
       "      <td>0.000</td>\n",
       "      <td>0.4</td>\n",
       "      <td>7.1</td>\n",
       "      <td>66.0</td>\n",
       "      <td>103.0</td>\n",
       "      <td>169.0</td>\n",
       "      <td>6.0</td>\n",
       "      <td>152.0</td>\n",
       "      <td>148.0</td>\n",
       "      <td>151.0</td>\n",
       "      <td>3.0</td>\n",
       "      <td>2.0</td>\n",
       "    </tr>\n",
       "    <tr>\n",
       "      <th>2123</th>\n",
       "      <td>140.0</td>\n",
       "      <td>0.001</td>\n",
       "      <td>0.000</td>\n",
       "      <td>0.007</td>\n",
       "      <td>0.000</td>\n",
       "      <td>0.4</td>\n",
       "      <td>6.1</td>\n",
       "      <td>67.0</td>\n",
       "      <td>103.0</td>\n",
       "      <td>170.0</td>\n",
       "      <td>5.0</td>\n",
       "      <td>153.0</td>\n",
       "      <td>148.0</td>\n",
       "      <td>152.0</td>\n",
       "      <td>4.0</td>\n",
       "      <td>2.0</td>\n",
       "    </tr>\n",
       "    <tr>\n",
       "      <th>2124</th>\n",
       "      <td>140.0</td>\n",
       "      <td>0.001</td>\n",
       "      <td>0.000</td>\n",
       "      <td>0.006</td>\n",
       "      <td>0.000</td>\n",
       "      <td>0.4</td>\n",
       "      <td>7.0</td>\n",
       "      <td>66.0</td>\n",
       "      <td>103.0</td>\n",
       "      <td>169.0</td>\n",
       "      <td>6.0</td>\n",
       "      <td>152.0</td>\n",
       "      <td>147.0</td>\n",
       "      <td>151.0</td>\n",
       "      <td>4.0</td>\n",
       "      <td>2.0</td>\n",
       "    </tr>\n",
       "    <tr>\n",
       "      <th>2125</th>\n",
       "      <td>142.0</td>\n",
       "      <td>0.002</td>\n",
       "      <td>0.002</td>\n",
       "      <td>0.008</td>\n",
       "      <td>0.000</td>\n",
       "      <td>0.4</td>\n",
       "      <td>5.0</td>\n",
       "      <td>42.0</td>\n",
       "      <td>117.0</td>\n",
       "      <td>159.0</td>\n",
       "      <td>2.0</td>\n",
       "      <td>145.0</td>\n",
       "      <td>143.0</td>\n",
       "      <td>145.0</td>\n",
       "      <td>1.0</td>\n",
       "      <td>1.0</td>\n",
       "    </tr>\n",
       "  </tbody>\n",
       "</table>\n",
       "<p>2126 rows × 16 columns</p>\n",
       "</div>"
      ],
      "text/plain": [
       "      baseline value  accelerations  fetal_movement  uterine_contractions  \\\n",
       "0              120.0          0.000           0.000                 0.000   \n",
       "1              132.0          0.006           0.000                 0.006   \n",
       "2              133.0          0.003           0.000                 0.008   \n",
       "3              134.0          0.003           0.000                 0.008   \n",
       "4              132.0          0.007           0.000                 0.008   \n",
       "...              ...            ...             ...                   ...   \n",
       "2121           140.0          0.000           0.000                 0.007   \n",
       "2122           140.0          0.001           0.000                 0.007   \n",
       "2123           140.0          0.001           0.000                 0.007   \n",
       "2124           140.0          0.001           0.000                 0.006   \n",
       "2125           142.0          0.002           0.002                 0.008   \n",
       "\n",
       "      light_decelerations  mean_value_of_short_term_variability  \\\n",
       "0                   0.000                                   0.5   \n",
       "1                   0.003                                   2.1   \n",
       "2                   0.003                                   2.1   \n",
       "3                   0.003                                   2.4   \n",
       "4                   0.000                                   2.4   \n",
       "...                   ...                                   ...   \n",
       "2121                0.000                                   0.2   \n",
       "2122                0.000                                   0.4   \n",
       "2123                0.000                                   0.4   \n",
       "2124                0.000                                   0.4   \n",
       "2125                0.000                                   0.4   \n",
       "\n",
       "      mean_value_of_long_term_variability  histogram_width  histogram_min  \\\n",
       "0                                     2.4             64.0           62.0   \n",
       "1                                    10.4            130.0           68.0   \n",
       "2                                    13.4            130.0           68.0   \n",
       "3                                    23.0            117.0           53.0   \n",
       "4                                    19.9            117.0           53.0   \n",
       "...                                   ...              ...            ...   \n",
       "2121                                  7.2             40.0          137.0   \n",
       "2122                                  7.1             66.0          103.0   \n",
       "2123                                  6.1             67.0          103.0   \n",
       "2124                                  7.0             66.0          103.0   \n",
       "2125                                  5.0             42.0          117.0   \n",
       "\n",
       "      histogram_max  histogram_number_of_peaks  histogram_mode  \\\n",
       "0             126.0                        2.0           120.0   \n",
       "1             198.0                        6.0           141.0   \n",
       "2             198.0                        5.0           141.0   \n",
       "3             170.0                       11.0           137.0   \n",
       "4             170.0                        9.0           137.0   \n",
       "...             ...                        ...             ...   \n",
       "2121          177.0                        4.0           153.0   \n",
       "2122          169.0                        6.0           152.0   \n",
       "2123          170.0                        5.0           153.0   \n",
       "2124          169.0                        6.0           152.0   \n",
       "2125          159.0                        2.0           145.0   \n",
       "\n",
       "      histogram_mean  histogram_median  histogram_variance  fetal_health  \n",
       "0              137.0             121.0                73.0           2.0  \n",
       "1              136.0             140.0                12.0           1.0  \n",
       "2              135.0             138.0                13.0           1.0  \n",
       "3              134.0             137.0                13.0           1.0  \n",
       "4              136.0             138.0                11.0           1.0  \n",
       "...              ...               ...                 ...           ...  \n",
       "2121           150.0             152.0                 2.0           2.0  \n",
       "2122           148.0             151.0                 3.0           2.0  \n",
       "2123           148.0             152.0                 4.0           2.0  \n",
       "2124           147.0             151.0                 4.0           2.0  \n",
       "2125           143.0             145.0                 1.0           1.0  \n",
       "\n",
       "[2126 rows x 16 columns]"
      ]
     },
     "execution_count": 144,
     "metadata": {},
     "output_type": "execute_result"
    }
   ],
   "source": [
    "df = df.drop(columns=['severe_decelerations', 'prolongued_decelerations','histogram_tendency'])\n",
    "df = df.drop(columns=['abnormal_short_term_variability', 'percentage_of_time_with_abnormal_long_term_variability','histogram_number_of_zeroes'])\n",
    "df.to_csv('cleaned_fetal_health.csv')\n",
    "df"
   ]
  },
  {
   "cell_type": "markdown",
   "id": "b47767df",
   "metadata": {},
   "source": [
    "#### Do data exploration on the dataset, and present a representative set of figures that gives insight into the data. Comment on the insights gained. \n",
    "After plotting 15 histograms on each independent variables, I found that some plots are skewed to the left. \\\n",
    "For 'Accelerations', the histogram plot is skewed to the left and the values is mainly distributed at about 0.002 \\\n",
    "For 'histogram_variance', the histogram plot is skewed to the left and the values is mainly distributed at about 2.5 \\\n",
    "I then plot the scatter plot with 'histogram_variance' & 'fetal_movement' to see if there's any correlation between  fetal heart rate's histogram_variance and fetal_movement. From the histogram, we can see than when the fetal health status is 'Pathological' (when fetal_health.value() == 3), the fetal movement is always approximately zero regardless the value of variance. And this makes fetal movement an interesting factor for predicting the fetal health."
   ]
  },
  {
   "cell_type": "code",
   "execution_count": 145,
   "id": "8a8d5860",
   "metadata": {},
   "outputs": [
    {
     "data": {
      "image/png": "[encoded data removed]",
      "text/plain": [
       "<Figure size 432x288 with 1 Axes>"
      ]
     },
     "metadata": {
      "needs_background": "light"
     },
     "output_type": "display_data"
    }
   ],
   "source": [
    "import matplotlib.pyplot as plt\n",
    "df.iloc[:, 0].hist()\n",
    "plt.xlabel(\"Baseline Heart rate\")\n",
    "plt.ylabel(\"Frequency\")\n",
    "plt.savefig(\"Figure_1.png\")\n",
    "plt.show()"
   ]
  },
  {
   "cell_type": "code",
   "execution_count": 146,
   "id": "67668167",
   "metadata": {
    "scrolled": false
   },
   "outputs": [
    {
     "data": {
      "image/png": "[encoded data removed]",
      "text/plain": [
       "<Figure size 432x288 with 1 Axes>"
      ]
     },
     "metadata": {
      "needs_background": "light"
     },
     "output_type": "display_data"
    }
   ],
   "source": [
    "df.iloc[:, 1].hist()\n",
    "plt.xlabel(\"Accelerations\")\n",
    "plt.ylabel(\"Frequency\")\n",
    "plt.savefig(\"Figure_2.png\")\n",
    "plt.show()"
   ]
  },
  {
   "cell_type": "code",
   "execution_count": 147,
   "id": "954c3164",
   "metadata": {},
   "outputs": [
    {
     "data": {
      "image/png": "[encoded data removed]",
      "text/plain": [
       "<Figure size 432x288 with 1 Axes>"
      ]
     },
     "metadata": {
      "needs_background": "light"
     },
     "output_type": "display_data"
    }
   ],
   "source": [
    "df.iloc[:, 2].hist()\n",
    "plt.xlabel(\"fetal_movement\")\n",
    "plt.ylabel(\"Frequency\")\n",
    "plt.savefig(\"Figure_3.png\")\n",
    "plt.show()"
   ]
  },
  {
   "cell_type": "code",
   "execution_count": 148,
   "id": "7f797acf",
   "metadata": {},
   "outputs": [
    {
     "data": {
      "image/png": "[encoded data removed]",
      "text/plain": [
       "<Figure size 432x288 with 1 Axes>"
      ]
     },
     "metadata": {
      "needs_background": "light"
     },
     "output_type": "display_data"
    }
   ],
   "source": [
    "df.iloc[:, 3].hist()\n",
    "plt.xlabel(\"uterine_contractions\")\n",
    "plt.ylabel(\"Frequency\")\n",
    "plt.savefig(\"Figure_4.png\")\n",
    "plt.show()\n"
   ]
  },
  {
   "cell_type": "code",
   "execution_count": 149,
   "id": "d74ea61e",
   "metadata": {},
   "outputs": [
    {
     "data": {
      "image/png": "[encoded data removed]",
      "text/plain": [
       "<Figure size 432x288 with 1 Axes>"
      ]
     },
     "metadata": {
      "needs_background": "light"
     },
     "output_type": "display_data"
    }
   ],
   "source": [
    "df.iloc[:, 4].hist()\n",
    "plt.xlabel(\"light_decelerations\")\n",
    "plt.ylabel(\"Frequency\")\n",
    "plt.savefig(\"Figure_5.png\")\n",
    "plt.show()"
   ]
  },
  {
   "cell_type": "code",
   "execution_count": 150,
   "id": "cb4f93a9",
   "metadata": {},
   "outputs": [
    {
     "data": {
      "image/png": "[encoded data removed]",
      "text/plain": [
       "<Figure size 432x288 with 1 Axes>"
      ]
     },
     "metadata": {
      "needs_background": "light"
     },
     "output_type": "display_data"
    }
   ],
   "source": [
    "df.iloc[:, 5].hist()\n",
    "plt.xlabel(\"mean_value_of_short_term_variability\")\n",
    "plt.ylabel(\"Frequency\")\n",
    "plt.savefig(\"Figure_6.png\")\n",
    "plt.show()"
   ]
  },
  {
   "cell_type": "code",
   "execution_count": 151,
   "id": "4085644a",
   "metadata": {},
   "outputs": [
    {
     "data": {
      "image/png": "[encoded data removed]",
      "text/plain": [
       "<Figure size 432x288 with 1 Axes>"
      ]
     },
     "metadata": {
      "needs_background": "light"
     },
     "output_type": "display_data"
    }
   ],
   "source": [
    "df.iloc[:, 6].hist()\n",
    "plt.xlabel(\"mean_value_of_long_term_variability\")\n",
    "plt.ylabel(\"Frequency\")\n",
    "plt.savefig(\"Figure_7.png\")\n",
    "plt.show()"
   ]
  },
  {
   "cell_type": "code",
   "execution_count": 152,
   "id": "3cf19070",
   "metadata": {},
   "outputs": [
    {
     "data": {
      "image/png": "[encoded data removed]",
      "text/plain": [
       "<Figure size 432x288 with 1 Axes>"
      ]
     },
     "metadata": {
      "needs_background": "light"
     },
     "output_type": "display_data"
    }
   ],
   "source": [
    "df.iloc[:, 7].hist()\n",
    "plt.xlabel(\"histogram_width\")\n",
    "plt.ylabel(\"Frequency\")\n",
    "plt.savefig(\"Figure_8.png\")\n",
    "plt.show()"
   ]
  },
  {
   "cell_type": "code",
   "execution_count": 153,
   "id": "84b0b4b0",
   "metadata": {},
   "outputs": [
    {
     "data": {
      "image/png": "[encoded data removed]",
      "text/plain": [
       "<Figure size 432x288 with 1 Axes>"
      ]
     },
     "metadata": {
      "needs_background": "light"
     },
     "output_type": "display_data"
    }
   ],
   "source": [
    "df.iloc[:, 8].hist()\n",
    "plt.xlabel(\"histogram_min\")\n",
    "plt.ylabel(\"Frequency\")\n",
    "plt.savefig(\"Figure_9.png\")\n",
    "plt.show()"
   ]
  },
  {
   "cell_type": "code",
   "execution_count": 154,
   "id": "cf366071",
   "metadata": {},
   "outputs": [
    {
     "data": {
      "image/png": "[encoded data removed]",
      "text/plain": [
       "<Figure size 432x288 with 1 Axes>"
      ]
     },
     "metadata": {
      "needs_background": "light"
     },
     "output_type": "display_data"
    }
   ],
   "source": [
    "df.iloc[:, 9].hist()\n",
    "plt.xlabel(\"histogram_max\")\n",
    "plt.ylabel(\"Frequency\")\n",
    "plt.savefig(\"Figure_10.png\")\n",
    "plt.show()"
   ]
  },
  {
   "cell_type": "code",
   "execution_count": 155,
   "id": "1435ad27",
   "metadata": {},
   "outputs": [
    {
     "data": {
      "image/png": "[encoded data removed]",
      "text/plain": [
       "<Figure size 432x288 with 1 Axes>"
      ]
     },
     "metadata": {
      "needs_background": "light"
     },
     "output_type": "display_data"
    }
   ],
   "source": [
    "df.iloc[:, 10].hist()\n",
    "plt.xlabel(\"histogram_number_of_peaks\")\n",
    "plt.ylabel(\"Frequency\")\n",
    "plt.savefig(\"Figure_11.png\")\n",
    "plt.show()"
   ]
  },
  {
   "cell_type": "code",
   "execution_count": 156,
   "id": "d581d733",
   "metadata": {},
   "outputs": [
    {
     "data": {
      "image/png": "[encoded data removed]",
      "text/plain": [
       "<Figure size 432x288 with 1 Axes>"
      ]
     },
     "metadata": {
      "needs_background": "light"
     },
     "output_type": "display_data"
    }
   ],
   "source": [
    "df.iloc[:, 11].hist()\n",
    "plt.xlabel(\"histogram_mode\")\n",
    "plt.ylabel(\"Frequency\")\n",
    "plt.savefig(\"Figure_12.png\")\n",
    "plt.show()"
   ]
  },
  {
   "cell_type": "code",
   "execution_count": 157,
   "id": "249e82b2",
   "metadata": {},
   "outputs": [
    {
     "data": {
      "image/png": "[encoded data removed]",
      "text/plain": [
       "<Figure size 432x288 with 1 Axes>"
      ]
     },
     "metadata": {
      "needs_background": "light"
     },
     "output_type": "display_data"
    }
   ],
   "source": [
    "df.iloc[:, 12].hist()\n",
    "plt.xlabel(\"histogram_mean\")\n",
    "plt.ylabel(\"Frequency\")\n",
    "plt.savefig(\"Figure_13.png\")\n",
    "plt.show()"
   ]
  },
  {
   "cell_type": "code",
   "execution_count": 158,
   "id": "06300bb6",
   "metadata": {},
   "outputs": [
    {
     "data": {
      "image/png": "[encoded data removed]",
      "text/plain": [
       "<Figure size 432x288 with 1 Axes>"
      ]
     },
     "metadata": {
      "needs_background": "light"
     },
     "output_type": "display_data"
    }
   ],
   "source": [
    "df.iloc[:, 13].hist()\n",
    "plt.xlabel(\"histogram_median\")\n",
    "plt.ylabel(\"Frequency\")\n",
    "plt.savefig(\"Figure_14.png\")\n",
    "plt.show()"
   ]
  },
  {
   "cell_type": "code",
   "execution_count": 159,
   "id": "9fdc86eb",
   "metadata": {
    "scrolled": false
   },
   "outputs": [
    {
     "data": {
      "image/png": "[encoded data removed]",
      "text/plain": [
       "<Figure size 432x288 with 1 Axes>"
      ]
     },
     "metadata": {
      "needs_background": "light"
     },
     "output_type": "display_data"
    }
   ],
   "source": [
    "df.iloc[:, 14].hist()\n",
    "plt.xlabel(\"histogram_variance\")\n",
    "plt.ylabel(\"Frequency\")\n",
    "plt.savefig(\"Figure_15.png\")\n",
    "plt.show()"
   ]
  },
  {
   "cell_type": "code",
   "execution_count": 160,
   "id": "cf1b67e8",
   "metadata": {},
   "outputs": [
    {
     "data": {
      "text/plain": [
       "<seaborn.axisgrid.FacetGrid at 0x7f81874ea8e0>"
      ]
     },
     "execution_count": 160,
     "metadata": {},
     "output_type": "execute_result"
    },
    {
     "data": {
      "image/png": "[encoded data removed]",
      "text/plain": [
       "<Figure size 415.135x216 with 1 Axes>"
      ]
     },
     "metadata": {
      "needs_background": "light"
     },
     "output_type": "display_data"
    }
   ],
   "source": [
    "import seaborn as sns\n",
    "_fetal_health = [1.0, 2.0, 3.0]\n",
    "fg = sns.FacetGrid(data=df, hue='fetal_health', hue_order=_fetal_health, aspect=1.61)\n",
    "fg.map(plt.scatter, 'histogram_variance', 'fetal_movement').add_legend()"
   ]
  },
  {
   "cell_type": "code",
   "execution_count": null,
   "id": "810d8d2c",
   "metadata": {},
   "outputs": [],
   "source": []
  },
  {
   "cell_type": "code",
   "execution_count": null,
   "id": "c9a95386",
   "metadata": {},
   "outputs": [],
   "source": []
  }
 ],
 "metadata": {
  "kernelspec": {
   "display_name": "Python 3 (ipykernel)",
   "language": "python",
   "name": "python3"
  },
  "language_info": {
   "codemirror_mode": {
    "name": "ipython",
    "version": 3
   },
   "file_extension": ".py",
   "mimetype": "text/x-python",
   "name": "python",
   "nbconvert_exporter": "python",
   "pygments_lexer": "ipython3",
   "version": "3.9.12"
  }
 },
 "nbformat": 4,
 "nbformat_minor": 5
}
