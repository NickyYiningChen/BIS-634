{
 "cells": [
  {
   "cell_type": "markdown",
   "id": "2c392099",
   "metadata": {},
   "source": [
    "# BIS634 Homework2_Yining Chen"
   ]
  },
  {
   "cell_type": "code",
   "execution_count": 75,
   "id": "110860f0",
   "metadata": {},
   "outputs": [],
   "source": [
    "import sys"
   ]
  },
  {
   "cell_type": "markdown",
   "id": "164073dc",
   "metadata": {},
   "source": [
    "first I checked the size of an empty list which yields an answer of 56. The size of a float is 64-56 = 8"
   ]
  },
  {
   "cell_type": "code",
   "execution_count": 85,
   "id": "96852d7d",
   "metadata": {},
   "outputs": [],
   "source": [
    "a = []"
   ]
  },
  {
   "cell_type": "code",
   "execution_count": 86,
   "id": "de19d0a0",
   "metadata": {},
   "outputs": [
    {
     "data": {
      "text/plain": [
       "56"
      ]
     },
     "execution_count": 86,
     "metadata": {},
     "output_type": "execute_result"
    }
   ],
   "source": [
    "sys.getsizeof(a)"
   ]
  },
  {
   "cell_type": "code",
   "execution_count": 78,
   "id": "87de21d9",
   "metadata": {},
   "outputs": [],
   "source": [
    "b = [1.234]"
   ]
  },
  {
   "cell_type": "code",
   "execution_count": 79,
   "id": "0bcdef5f",
   "metadata": {},
   "outputs": [
    {
     "data": {
      "text/plain": [
       "64"
      ]
     },
     "execution_count": 79,
     "metadata": {},
     "output_type": "execute_result"
    }
   ],
   "source": [
    "sys.getsizeof(b)"
   ]
  },
  {
   "cell_type": "markdown",
   "id": "f4ae04e2",
   "metadata": {},
   "source": [
    "First I used this method to calculate the total memory used as following equation, which yields an answer greater than 4GB but smaller than 8GB"
   ]
  },
  {
   "cell_type": "code",
   "execution_count": 80,
   "id": "37164e0a",
   "metadata": {},
   "outputs": [
    {
     "data": {
      "text/plain": [
       "4.000000056"
      ]
     },
     "execution_count": 80,
     "metadata": {},
     "output_type": "execute_result"
    }
   ],
   "source": [
    "(500 * 1000000 * 8 + 56) * 1e-9"
   ]
  },
  {
   "cell_type": "markdown",
   "id": "f692de7b",
   "metadata": {},
   "source": [
    "Then I figured maybe python allocates more memory when adding more input in the list (because in Java it would always preallocate memory)\\\n",
    "So I tried to implement the .append( ) method multiple times to see how the memory increases"
   ]
  },
  {
   "cell_type": "code",
   "execution_count": 87,
   "id": "e785a55a",
   "metadata": {},
   "outputs": [],
   "source": [
    "a.append(1.123)"
   ]
  },
  {
   "cell_type": "code",
   "execution_count": 88,
   "id": "e79a65ee",
   "metadata": {},
   "outputs": [
    {
     "data": {
      "text/plain": [
       "88"
      ]
     },
     "execution_count": 88,
     "metadata": {},
     "output_type": "execute_result"
    }
   ],
   "source": [
    "sys.getsizeof(a)"
   ]
  },
  {
   "cell_type": "markdown",
   "id": "0cc11c83",
   "metadata": {},
   "source": [
    "The first three times, it gives a size of 88, then it changes to 120 at the fifth time, 184 at the 9th time, 248 at the 17th time, 312 at the 25th time..."
   ]
  },
  {
   "cell_type": "markdown",
   "id": "6f9a134a",
   "metadata": {},
   "source": [
    "empty list - 56 \\\n",
    "1st append - 88， diff 32\\\n",
    "5th append - 120, diff 32 \\\n",
    "9th append - 184, diff 64\\\n",
    "17th append - 248, diff 64\\\n",
    "25th  append- 312, diff 64 \\\n",
    "....."
   ]
  },
  {
   "cell_type": "markdown",
   "id": "8da80732",
   "metadata": {},
   "source": [
    "From this trend we can see, the more elements are appended in the list, the more memory python would allocate. So we can interpret that, when the elements increased to 500 million, the memory preallocated in the list by .append() would be extremely large, which lead to the MemoryError even with 8GB of RAM"
   ]
  },
  {
   "cell_type": "markdown",
   "id": "47f7a737",
   "metadata": {},
   "source": [
    "#### A way of storing all the data in memory that would work\n",
    "Since the list is created first, it allocated a fixed among of memory which is smaller than 8GB"
   ]
  },
  {
   "cell_type": "code",
   "execution_count": null,
   "id": "daa15579",
   "metadata": {},
   "outputs": [],
   "source": [
    "with open('weights.txt') as f:\n",
    "    lst = [0 for _ in range(500000000)]\n",
    "    count = 0\n",
    "    for line in f:\n",
    "        count += 1\n",
    "        lst[count] = float(line)\n",
    "print(\"average =\", sum(lst) / count)"
   ]
  },
  {
   "cell_type": "code",
   "execution_count": 95,
   "id": "27d2b537",
   "metadata": {},
   "outputs": [
    {
     "data": {
      "text/plain": [
       "4.343989656000001"
      ]
     },
     "execution_count": 95,
     "metadata": {},
     "output_type": "execute_result"
    }
   ],
   "source": [
    "# test the size of the list\n",
    "lst = [0 for _ in range(500000000)]\n",
    "sys.getsizeof(lst)*1e-9"
   ]
  },
  {
   "cell_type": "markdown",
   "id": "9459f2be",
   "metadata": {},
   "source": [
    "#### A way that would not require storing all the data in memory\n",
    "Do not create a list to store all the data since we only want the average (no need for keeping track of each single value) \\\n",
    "Simply sum them up using the for loop and divide for average instead of creating the list"
   ]
  },
  {
   "cell_type": "code",
   "execution_count": null,
   "id": "c36277d7",
   "metadata": {},
   "outputs": [],
   "source": [
    "with open('weights.txt') as f:\n",
    "    s = 0\n",
    "    count = 0\n",
    "    for line in f:\n",
    "        s += float(line)\n",
    "        count += 1\n",
    "print(\"average =\", s / count)"
   ]
  },
  {
   "cell_type": "markdown",
   "id": "0cdb2054",
   "metadata": {},
   "source": [
    "# 2"
   ]
  },
  {
   "cell_type": "code",
   "execution_count": 1,
   "id": "170dbd39",
   "metadata": {},
   "outputs": [],
   "source": [
    "from hashlib import sha3_256, sha256, blake2b\n",
    "\n",
    "\n",
    "class Bloomfilter(object):\n",
    "    def __init__(self, size=15, hushf_num=3):\n",
    "        self.size = size\n",
    "        self.hushf_num = hushf_num\n",
    "        # we use a list of Booleans to represent our\n",
    "        # bit array for simplicity\n",
    "        self.bit_array = [False for i in range(self.size)]\n",
    "\n",
    "    def my_hash(self, s):\n",
    "        return int(sha256(s.lower().encode()).hexdigest(), 16) % self.size\n",
    "\n",
    "    def my_hash2(self, s):\n",
    "        return int(blake2b(s.lower().encode()).hexdigest(), 16) % self.size\n",
    "\n",
    "    def my_hash3(self, s):\n",
    "        return int(sha3_256(s.lower().encode()).hexdigest(), 16) % self.size\n",
    "\n",
    "    def add(self, s):\n",
    "        if self.hushf_num == 1:\n",
    "            digest1 = self.my_hash(s)\n",
    "            self.bit_array[digest1] = True\n",
    "        elif self.hushf_num == 2:\n",
    "            digest1 = self.my_hash(s)\n",
    "            digest2 = self.my_hash2(s)\n",
    "            self.bit_array[digest1] = True\n",
    "            self.bit_array[digest2] = True\n",
    "        elif self.hushf_num == 3:\n",
    "            digest1 = self.my_hash(s)\n",
    "            digest2 = self.my_hash2(s)\n",
    "            digest3 = self.my_hash3(s)\n",
    "            self.bit_array[digest1] = True\n",
    "            self.bit_array[digest2] = True\n",
    "            self.bit_array[digest3] = True\n",
    "\n",
    "    def check(self, s):\n",
    "        if self.hushf_num == 1:\n",
    "            digest1 = self.my_hash(s)\n",
    "            if self.bit_array[digest1]:\n",
    "                return True\n",
    "        elif self.hushf_num == 2:\n",
    "            digest1 = self.my_hash(s)\n",
    "            digest2 = self.my_hash2(s)\n",
    "            if self.bit_array[digest1] and self.bit_array[digest2]:\n",
    "                return True\n",
    "        elif self.hushf_num == 3:\n",
    "            digest1 = self.my_hash(s)\n",
    "            digest2 = self.my_hash2(s)\n",
    "            digest3 = self.my_hash3(s)\n",
    "            if self.bit_array[digest1] and self.bit_array[digest2] and self.bit_array[digest3]:\n",
    "                return True\n",
    "        return False\n"
   ]
  },
  {
   "cell_type": "code",
   "execution_count": 2,
   "id": "3c692a5e",
   "metadata": {},
   "outputs": [],
   "source": [
    "def spelling_correction(string, data):\n",
    "    s_lst = list(string)\n",
    "    ret = []\n",
    "    for i in range(len(string)):\n",
    "        for s in range(97, 123):\n",
    "            s = chr(s)\n",
    "            if s == string[i]:\n",
    "                continue\n",
    "            s_lst[i] = s\n",
    "            # s_temp is the altered string, to check whether is in the filter\n",
    "            s_temp = ''.join(s_lst)\n",
    "            # if in the filter, add to the suggestion list\n",
    "            if data.check(s_temp):\n",
    "                ret.append(s_temp)\n",
    "            s_lst[i] = string[i]\n",
    "    return ret\n",
    "    "
   ]
  },
  {
   "cell_type": "code",
   "execution_count": 3,
   "id": "abd58b72",
   "metadata": {},
   "outputs": [],
   "source": [
    "def judge_good_suggestion(suggestions, correct_word):\n",
    "    if len(suggestions) > 3:\n",
    "        return False\n",
    "    if correct_word in suggestions:\n",
    "        return True\n",
    "    return False"
   ]
  },
  {
   "cell_type": "code",
   "execution_count": 4,
   "id": "c7fd5dc4",
   "metadata": {},
   "outputs": [],
   "source": [
    "data = Bloomfilter(size=int(1e7), hushf_num=3)\n",
    "with open('desktop/words.txt') as f:\n",
    "    for line in f:\n",
    "        word = line.strip()\n",
    "        data.add(word)"
   ]
  },
  {
   "cell_type": "code",
   "execution_count": 5,
   "id": "b8bf9999",
   "metadata": {},
   "outputs": [
    {
     "data": {
      "text/plain": [
       "['floter', 'flower']"
      ]
     },
     "execution_count": 5,
     "metadata": {},
     "output_type": "execute_result"
    }
   ],
   "source": [
    "spelling_correction('floeer', data)"
   ]
  },
  {
   "cell_type": "code",
   "execution_count": 48,
   "id": "f6468656",
   "metadata": {},
   "outputs": [],
   "source": [
    "import json\n",
    "with open('desktop/typos.json') as f:\n",
    "    json_data = json.load(f)\n",
    "    \n",
    "size_lst = [10, 100, 1000, 10000, int(1e5), int(1e6), int(1e7)]\n",
    "hushf_num_lst = [1, 2, 3]\n",
    "\n",
    "mis_identified_dict = {}\n",
    "good_suggestions_dict = {}\n",
    "\n",
    "\n",
    "\n",
    "for hushf_num in hushf_num_lst:\n",
    "    mis_identified_dict[hushf_num] = {}\n",
    "    good_suggestions_dict[hushf_num] = {}\n",
    "    \n",
    "    for size in size_lst:\n",
    "        data = Bloomfilter(size=size, hushf_num=hushf_num)\n",
    "        with open('desktop/words.txt') as f:\n",
    "            for line in f:\n",
    "                word = line.strip()\n",
    "                data.add(word)\n",
    "                \n",
    "        identified_pos = 0\n",
    "        good_suggestions_count = 0\n",
    "        \n",
    "        for (typed_word, correct_word) in json_data:\n",
    "            if data.check(typed_word):\n",
    "                identified_pos += 1\n",
    "            suggestions = spelling_correction(typed_word, data)\n",
    "            if judge_good_suggestion(suggestions, correct_word):\n",
    "                good_suggestions_count += 1\n",
    "                \n",
    "        mis_identified = identified_pos - len(json_data)/2\n",
    "        mis_identified_dict[hushf_num][size] = mis_identified\n",
    "        \n",
    "        good_suggestions_dict[hushf_num][size] = good_suggestions_count\n",
    "        "
   ]
  },
  {
   "cell_type": "markdown",
   "id": "2e8c1ffd",
   "metadata": {},
   "source": [
    "#### Plot the effect of the size of the filter together with the choice of just the first, the first two, or all three of the above hash functions on the number of words misidentified as correct and the number of \"good suggestions\"."
   ]
  },
  {
   "cell_type": "code",
   "execution_count": 67,
   "id": "91efbbf6",
   "metadata": {},
   "outputs": [
    {
     "data": {
      "image/png": "[encoded data removed]",
      "text/plain": [
       "<Figure size 432x288 with 1 Axes>"
      ]
     },
     "metadata": {
      "needs_background": "light"
     },
     "output_type": "display_data"
    }
   ],
   "source": [
    "import matplotlib.pyplot as plt\n",
    "\n",
    "plt.plot(size_lst, [good_suggestions_dict[1][v] for v in size_lst], label = \"good suggestion %1 hashes\")\n",
    "plt.plot(size_lst, [good_suggestions_dict[2][v] for v in size_lst], label = \"good suggestion %2 hashes\")\n",
    "plt.plot(size_lst, [good_suggestions_dict[3][v] for v in size_lst], label = \"good suggestion %3 hashes\")\n",
    "plt.plot(size_lst, [mis_identified_dict[1][v] for v in size_lst], label = \"Misidentified %1 hashes\")\n",
    "plt.plot(size_lst, [mis_identified_dict[2][v] for v in size_lst], label = \"Misidentified %2 hashes\")\n",
    "plt.plot(size_lst, [mis_identified_dict[3][v] for v in size_lst], label = \"Misidentified %3 hashes\")\n",
    "plt.legend()\n",
    "plt.show()"
   ]
  },
  {
   "cell_type": "markdown",
   "id": "13bec0e2",
   "metadata": {},
   "source": [
    "In this graph, I did not use log-log plot. Because I want to show a more __linear__ trend of how the good suggestion rate increases as n increases and how misidentified number decreases."
   ]
  },
  {
   "cell_type": "code",
   "execution_count": 101,
   "id": "a211beec",
   "metadata": {},
   "outputs": [
    {
     "name": "stdout",
     "output_type": "stream",
     "text": [
      "1 can't reach 90% acc with size <= 1e7\n",
      "2 can't reach 90% acc with size <= 1e7\n",
      "3 is able to reach 90% acc with the size of 10000000\n"
     ]
    }
   ],
   "source": [
    "for hushf_num in hushf_num_lst:\n",
    "    flag = False\n",
    "    for size in size_lst:\n",
    "        if good_suggestions_dict[hushf_num][size] / 25000 >= 0.9:\n",
    "            flag = True\n",
    "            break\n",
    "    if flag:\n",
    "        print(hushf_num, \"is able to reach 90% acc with the size of\", size)\n",
    "    else:\n",
    "        print(hushf_num, \"can't reach 90% acc with size <= 1e7\")"
   ]
  },
  {
   "cell_type": "markdown",
   "id": "9c7ad9d9",
   "metadata": {},
   "source": [
    "From the code above, we can see that when using 3 hashing functions, we are able to reach a good suggestion rate of 90% with when using __1e7__ bits to hash."
   ]
  },
  {
   "cell_type": "markdown",
   "id": "45975e19",
   "metadata": {},
   "source": [
    "# 3"
   ]
  },
  {
   "cell_type": "code",
   "execution_count": 78,
   "id": "05988b32",
   "metadata": {},
   "outputs": [],
   "source": [
    "class Tree:\n",
    "    def __init__(self):\n",
    "        self._value = None\n",
    "        self.left = None\n",
    "        self.right = None\n",
    "        \n",
    "    def __contains__(self, item):\n",
    "          if self._value == item:\n",
    "            return True\n",
    "          elif self.left and item < self._value:\n",
    "            return item in self.left\n",
    "          elif self.right and item > self._value:\n",
    "            return item in self.right\n",
    "          else:\n",
    "            return False\n",
    "    \n",
    "    ## the add method\n",
    "    def add(self, item):\n",
    "        if not self._value:\n",
    "            self._value = item\n",
    "            return\n",
    "        \n",
    "        # consolidate two redundant\n",
    "        if self._value == item:\n",
    "            return\n",
    "\n",
    "        if item < self._value:\n",
    "            if self.left:\n",
    "                self.left.add(item)\n",
    "                return\n",
    "            self.left = Tree()\n",
    "            self.left.add(item)\n",
    "            return\n",
    "\n",
    "        if self.right:\n",
    "            self.right.add(item)\n",
    "            return\n",
    "        self.right = Tree()\n",
    "        self.right.add(item)"
   ]
  },
  {
   "cell_type": "code",
   "execution_count": 79,
   "id": "90f3e738",
   "metadata": {},
   "outputs": [],
   "source": [
    "my_tree = Tree()\n",
    "for item in [55, 62, 37, 49, 71, 14, 17]:\n",
    "    my_tree.add(item)"
   ]
  },
  {
   "cell_type": "markdown",
   "id": "5eeef82d",
   "metadata": {},
   "source": [
    "Test the __in__ operator by checking whether 55 and 42 are in the tree"
   ]
  },
  {
   "cell_type": "code",
   "execution_count": 80,
   "id": "300a8d13",
   "metadata": {},
   "outputs": [
    {
     "data": {
      "text/plain": [
       "True"
      ]
     },
     "execution_count": 80,
     "metadata": {},
     "output_type": "execute_result"
    }
   ],
   "source": [
    "55 in my_tree"
   ]
  },
  {
   "cell_type": "code",
   "execution_count": 81,
   "id": "e834201d",
   "metadata": {},
   "outputs": [
    {
     "data": {
      "text/plain": [
       "False"
      ]
     },
     "execution_count": 81,
     "metadata": {},
     "output_type": "execute_result"
    }
   ],
   "source": [
    "42 in my_tree"
   ]
  },
  {
   "cell_type": "code",
   "execution_count": 77,
   "id": "db8a1a9f",
   "metadata": {},
   "outputs": [
    {
     "data": {
      "image/png": "[encoded data removed]",
      "text/plain": [
       "<Figure size 432x288 with 1 Axes>"
      ]
     },
     "metadata": {
      "needs_background": "light"
     },
     "output_type": "display_data"
    }
   ],
   "source": [
    "import numpy as np\n",
    "import time\n",
    "import matplotlib.pyplot as plt\n",
    "\n",
    "n_lst = np.logspace(0,5, dtype = int)\n",
    "check_time = []\n",
    "\n",
    "for n in n_lst:\n",
    "    my_tree = Tree()\n",
    "    lst = np.random.randint(1e4, size = n)\n",
    "    for item in lst:\n",
    "        my_tree.add(item)\n",
    "        \n",
    "    t_start = time.time()\n",
    "    \n",
    "    for i in range(1000):\n",
    "        i in my_tree\n",
    "        \n",
    "    t_stop = time.time()\n",
    "    check_time.append((t_stop-t_start)/1000)\n",
    "\n",
    "plt.loglog(n_lst, check_time, label = 'checking_time')\n",
    "plt.legend()\n",
    "plt.show()\n"
   ]
  },
  {
   "cell_type": "markdown",
   "id": "f4f6f56a",
   "metadata": {},
   "source": [
    "The log-log plot above takes the log value of checking time (the __containing__ method) as x, and log value of n as y.\\\n",
    "The plot shows a relationship of log trend, which indicates that the containing method has a O(log n) run-time \\\n",
    "When n is relatively large(1e5), we can see that the line is almost horizontal "
   ]
  },
  {
   "cell_type": "markdown",
   "id": "c34d71de",
   "metadata": {},
   "source": [
    "#### Provide supporting evidence that the time to setup the tree is O(n log n) by timing it for various sized ns and showing that the runtime lies between a curve that is O(n) and one that is O(n**2)"
   ]
  },
  {
   "cell_type": "code",
   "execution_count": 68,
   "id": "8e0a2f8c",
   "metadata": {},
   "outputs": [],
   "source": [
    "import numpy as np\n",
    "import time\n",
    "import matplotlib.pyplot as plt\n",
    "\n",
    "n_lst = np.logspace(0,6, dtype = int)\n",
    "check_time = []\n",
    "\n",
    "for n in n_lst:\n",
    "    t_start = time.time()\n",
    "    my_tree = Tree()\n",
    "    lst = np.random.randint(1e4, size = n)\n",
    "    for item in lst:\n",
    "        my_tree.add(item)\n",
    "    t_stop = time.time()\n",
    "    check_time.append((t_stop-t_start))"
   ]
  },
  {
   "cell_type": "markdown",
   "id": "024645fc",
   "metadata": {},
   "source": [
    "From the lecture, we know that scaling doesn't affect the run-time analysis (big O)\\\n",
    "So in order to visualize the graph in a better way, I divided the y = n^2 line, and y = n line by 1e6\\\n",
    "In this way, we are able to compare the slope and trend of all three lines in a better way"
   ]
  },
  {
   "cell_type": "code",
   "execution_count": 71,
   "id": "ceabaa64",
   "metadata": {},
   "outputs": [
    {
     "data": {
      "image/png": "[encoded data removed]",
      "text/plain": [
       "<Figure size 432x288 with 1 Axes>"
      ]
     },
     "metadata": {
      "needs_background": "light"
     },
     "output_type": "display_data"
    }
   ],
   "source": [
    "plt.loglog(n_lst, check_time, label = 'generate_time')\n",
    "# scale the O(n^2) and O(n) by dividing it by 1e6\n",
    "plt.loglog(n_lst, (np.square(n_lst)/1e6), label = 'O(n^2)')\n",
    "plt.loglog(n_lst, (n_lst/1e6), label = 'O(n)')\n",
    "plt.legend()\n",
    "plt.show()"
   ]
  },
  {
   "cell_type": "markdown",
   "id": "0287f147",
   "metadata": {},
   "source": [
    "The log-log plot above takes the log value of Tree setup time as x-axis, and log value of n as y-axis.\n",
    "The blue line indicates the Tree generation time. The blue line lies between the O(n^2) line and O(n) line.\\\n",
    "So we can properly interpret that the Tree setting process has a __O(n$*$log n)__ run-time"
   ]
  },
  {
   "cell_type": "markdown",
   "id": "0f8b60e3",
   "metadata": {},
   "source": [
    "# 4"
   ]
  },
  {
   "cell_type": "code",
   "execution_count": 34,
   "id": "57becaa6",
   "metadata": {},
   "outputs": [],
   "source": [
    "def alg1(data):\n",
    "    data = list(data)\n",
    "    changes = True\n",
    "    while changes:\n",
    "        changes = False\n",
    "        for i in range(len(data) - 1):\n",
    "            if data[i + 1] < data[i]:\n",
    "                data[i], data[i + 1] = data[i + 1], data[i]\n",
    "                changes = True\n",
    "    return data"
   ]
  },
  {
   "cell_type": "code",
   "execution_count": 35,
   "id": "c9b14dc8",
   "metadata": {},
   "outputs": [],
   "source": [
    "def alg2(data):\n",
    "    if len(data) <= 1:\n",
    "        return data\n",
    "    else:\n",
    "        split = len(data) // 2\n",
    "        left = iter(alg2(data[:split]))\n",
    "        right = iter(alg2(data[split:]))\n",
    "        result = []\n",
    "        # note: this takes the top items off the left and right piles\n",
    "        left_top = next(left)\n",
    "        right_top = next(right)\n",
    "        while True:\n",
    "            if left_top < right_top:\n",
    "                result.append(left_top)\n",
    "                try:\n",
    "                    left_top = next(left)\n",
    "                except StopIteration:\n",
    "                    # nothing remains on the left; add the right + return\n",
    "                    return result + [right_top] + list(right)\n",
    "            else:\n",
    "                result.append(right_top)\n",
    "                try:\n",
    "                    right_top = next(right)\n",
    "                except StopIteration:\n",
    "                    # nothing remains on the right; add the left + return\n",
    "                    return result + [left_top] + list(left)\n"
   ]
  },
  {
   "cell_type": "markdown",
   "id": "ef3d9071",
   "metadata": {},
   "source": [
    "#### By trying a few tests, hypothesize what operation these functions perform on the list of values."
   ]
  },
  {
   "cell_type": "code",
   "execution_count": 36,
   "id": "45c929c4",
   "metadata": {},
   "outputs": [
    {
     "name": "stdout",
     "output_type": "stream",
     "text": [
      "[1, 2, 2, 3, 3, 5, 5, 7, 7, 12, 23, 24, 34]\n",
      "[1, 2, 2, 3, 3, 5, 5, 7, 7, 12, 23, 24, 34]\n"
     ]
    }
   ],
   "source": [
    "a = [3,5,2,7,1,3,2,5,7,24,23,12,34]\n",
    "print(alg1(a))\n",
    "print(alg2(a))"
   ]
  },
  {
   "cell_type": "markdown",
   "id": "103db75a",
   "metadata": {},
   "source": [
    "By testing alg1 and alg2 with list a, we can see that both alg1 and alg2 are sorting algorithms, which returns a list with ascending order."
   ]
  },
  {
   "cell_type": "markdown",
   "id": "4005e378",
   "metadata": {},
   "source": [
    "#### Explain how each of these functions is able to complete the task"
   ]
  },
  {
   "cell_type": "markdown",
   "id": "ffa00495",
   "metadata": {},
   "source": [
    "alg1 is like a bubble sort. This sorting algorithm is completed by repeatedly swapping the adjacent elements that are in the wrong orders.\\\n",
    "alg2 is like a merge sort. This sorting algorithm is completed by the idea of \"divide and conquer\". It is to recursively break the list into two halves util it's only one or two items, and then appended them together in to the whole list."
   ]
  },
  {
   "cell_type": "code",
   "execution_count": 37,
   "id": "b2f8d522",
   "metadata": {},
   "outputs": [],
   "source": [
    "#  Lorentz System\n",
    "def data1(n, sigma=10, rho=28, beta=8/3, dt=0.01, x=1, y=1, z=1):\n",
    "    import numpy\n",
    "    state = numpy.array([x, y, z], dtype=float)\n",
    "    result = []\n",
    "    for _ in range(n):\n",
    "        x, y, z = state\n",
    "        state += dt * numpy.array([\n",
    "            sigma * (y - x),\n",
    "            x * (rho - z) - y,\n",
    "            x * y - beta * z\n",
    "        ])\n",
    "        result.append(float(state[0] + 30))\n",
    "    return result"
   ]
  },
  {
   "cell_type": "code",
   "execution_count": 38,
   "id": "bb84ada9",
   "metadata": {},
   "outputs": [],
   "source": [
    "# in correct order\n",
    "def data2(n):\n",
    "    return list(range(n))"
   ]
  },
  {
   "cell_type": "code",
   "execution_count": 39,
   "id": "68c118cb",
   "metadata": {},
   "outputs": [],
   "source": [
    "# in reversed order\n",
    "def data3(n):\n",
    "    return list(range(n, 0, -1))"
   ]
  },
  {
   "cell_type": "code",
   "execution_count": 40,
   "id": "e3cd491c",
   "metadata": {},
   "outputs": [],
   "source": [
    "import numpy as np\n",
    "from time import perf_counter\n",
    "import matplotlib.pyplot as plt\n",
    "\n",
    "n_lst = np.logspace(0,4,dtype = int)\n",
    "\n",
    "alg1_time = {}\n",
    "alg2_time = {}\n",
    "\n",
    "for i in [1,2,3]:\n",
    "    time1 = []\n",
    "    time2 = []\n",
    "    for n in n_lst:\n",
    "        if i == 1:\n",
    "            data = data1(int(n))\n",
    "        elif i == 2:\n",
    "            data = data2(int(n))\n",
    "        else:\n",
    "            data = data3(int(n))\n",
    "        \n",
    "        t_start = perf_counter()\n",
    "        alg1(data)\n",
    "        t_stop = perf_counter()\n",
    "        time1.append(t_stop-t_start)\n",
    "        \n",
    "        t_start = perf_counter()\n",
    "        alg2(data)\n",
    "        t_stop = perf_counter()\n",
    "        time2.append(t_stop-t_start)\n",
    "        \n",
    "        alg1_time[i] = time1\n",
    "        alg2_time[i] = time2\n",
    "        \n",
    " "
   ]
  },
  {
   "cell_type": "markdown",
   "id": "f7f2b716",
   "metadata": {},
   "source": [
    "#### Plot on a loglog graph as a function of n, and describe the apparent big-O scaling of each"
   ]
  },
  {
   "cell_type": "code",
   "execution_count": 46,
   "id": "56dda9bc",
   "metadata": {},
   "outputs": [
    {
     "data": {
      "image/png": "[encoded data removed]",
      "text/plain": [
       "<Figure size 432x288 with 1 Axes>"
      ]
     },
     "metadata": {
      "needs_background": "light"
     },
     "output_type": "display_data"
    },
    {
     "data": {
      "image/png": "[encoded data removed]",
      "text/plain": [
       "<Figure size 432x288 with 1 Axes>"
      ]
     },
     "metadata": {
      "needs_background": "light"
     },
     "output_type": "display_data"
    },
    {
     "data": {
      "image/png": "[encoded data removed]",
      "text/plain": [
       "<Figure size 432x288 with 1 Axes>"
      ]
     },
     "metadata": {
      "needs_background": "light"
     },
     "output_type": "display_data"
    }
   ],
   "source": [
    "plt.clf()\n",
    "plt.loglog(n_lst, alg1_time[1], label='algo1')\n",
    "plt.loglog(n_lst, alg2_time[1], label='algo2')\n",
    "\n",
    "\n",
    "plt.legend()\n",
    "plt.title('data 1')\n",
    "plt.show()\n",
    "\n",
    "plt.clf()\n",
    "plt.loglog(n_lst, alg1_time[2], label='algo1')\n",
    "plt.loglog(n_lst, alg2_time[2], label='algo2')\n",
    "plt.legend()\n",
    "plt.title('data 2')\n",
    "plt.show()\n",
    "\n",
    "plt.clf()\n",
    "plt.loglog(n_lst, alg1_time[3], label='algo1')\n",
    "plt.loglog(n_lst, alg2_time[3], label='algo2')\n",
    "plt.legend()\n",
    "plt.title('data 3')\n",
    "plt.show()"
   ]
  },
  {
   "cell_type": "code",
   "execution_count": 83,
   "id": "cec30112",
   "metadata": {},
   "outputs": [
    {
     "data": {
      "image/png": "[encoded data removed]",
      "text/plain": [
       "<Figure size 432x288 with 1 Axes>"
      ]
     },
     "metadata": {
      "needs_background": "light"
     },
     "output_type": "display_data"
    },
    {
     "data": {
      "image/png": "[encoded data removed]",
      "text/plain": [
       "<Figure size 432x288 with 1 Axes>"
      ]
     },
     "metadata": {
      "needs_background": "light"
     },
     "output_type": "display_data"
    }
   ],
   "source": [
    "plt.clf()\n",
    "plt.loglog(n_lst, alg1_time[1], label='data1')\n",
    "plt.loglog(n_lst, alg1_time[2], label='data2')\n",
    "plt.loglog(n_lst, alg1_time[3], label='data3')\n",
    "plt.legend()\n",
    "plt.title('sorting algo 1')\n",
    "plt.show()\n",
    "\n",
    "plt.clf()\n",
    "plt.loglog(n_lst, alg2_time[1], label='data1')\n",
    "plt.loglog(n_lst, alg2_time[2], label='data2')\n",
    "plt.loglog(n_lst, alg2_time[3], label='data3')\n",
    "plt.legend()\n",
    "plt.title('sorting algo 2')\n",
    "plt.show()"
   ]
  },
  {
   "cell_type": "markdown",
   "id": "4970a366",
   "metadata": {},
   "source": [
    "For all three data generating methods:\n",
    "From the above graph, we can interpret that the apparent big-O scaling for alg1 is O(n^2), which matches the result of bubble sort\n",
    "And the apparent big-O scaling for alg2 is O(n$*$logn), which matches the result of merge sort"
   ]
  },
  {
   "cell_type": "markdown",
   "id": "269835e7",
   "metadata": {},
   "source": [
    "#### Discuss how the scaling performance compares across the three data sets. Which algorithm would you recommend to use for arbitrary data and why?"
   ]
  },
  {
   "cell_type": "markdown",
   "id": "a52c48f8",
   "metadata": {},
   "source": [
    "From the above figures, we can see that for the first data set (data1), alg2 perform significantly better than alg1 as the size of list (n) increases. For the second data set (data2), the two algorithms have similar performance trend, and alg1 is faster than alg2. For the last data set (data3), alg2 almost always has a better performanc compares to alg1. \\\n",
    "I would recommend alg2 for an arbitrary list of data. Data1 is a \"Lorentz System\", which is more like a simulation to generate random data. It's the more \"arbitrary\" data among this three data sets. From the performance of alg1 and alg2 on data1, we can interpret that for an arbitrary data set, only if when the size is small, would I recommend alg1. Otherwise, alg2 is a more preferable way."
   ]
  },
  {
   "cell_type": "markdown",
   "id": "83d34d2d",
   "metadata": {},
   "source": [
    "#### Explain in words how to parallelize alg2; that is, where are there independent tasks whose results can be combined?"
   ]
  },
  {
   "cell_type": "markdown",
   "id": "9c1a4b3c",
   "metadata": {},
   "source": [
    "As alg2 is a merge sort algorithm, the list is alway splitted into two halves. So we can use this characteristic to implement multiprocessing. The two independent tasks are the left half of the list and the right half of the list. With multiprocessing, the two halves of lists can be sorted independently and parallely. After the sorting processes, we can merge those two halves together. "
   ]
  },
  {
   "cell_type": "markdown",
   "id": "677d462c",
   "metadata": {},
   "source": [
    "#### Using the multiprocessing module, provide a two-process parallel implementation of alg2"
   ]
  },
  {
   "cell_type": "code",
   "execution_count": null,
   "id": "c176d094",
   "metadata": {},
   "outputs": [],
   "source": [
    "import numpy as np\n",
    "from time import perf_counter\n",
    "import matplotlib.pyplot as plt\n",
    "import multiprocessing\n",
    "\n",
    "#  Lorentz System\n",
    "def data1(n, sigma=10, rho=28, beta=8/3, dt=0.01, x=1, y=1, z=1):\n",
    "    import numpy\n",
    "    state = numpy.array([x, y, z], dtype=float)\n",
    "    result = []\n",
    "    for _ in range(n):\n",
    "        x, y, z = state\n",
    "        state += dt * numpy.array([\n",
    "            sigma * (y - x),\n",
    "            x * (rho - z) - y,\n",
    "            x * y - beta * z\n",
    "        ])\n",
    "        result.append(float(state[0] + 30))\n",
    "    return result\n",
    "\n",
    "\n",
    "\n",
    "def alg2(data):\n",
    "    if len(data) <= 1:\n",
    "        return data\n",
    "    else:\n",
    "        split = len(data) // 2\n",
    "        left = iter(alg2(data[:split]))\n",
    "        right = iter(alg2(data[split:]))\n",
    "        result = []\n",
    "        # note: this takes the top items off the left and right piles\n",
    "        left_top = next(left)\n",
    "        right_top = next(right)\n",
    "        while True:\n",
    "            if left_top < right_top:\n",
    "                result.append(left_top)\n",
    "                try:\n",
    "                    left_top = next(left)\n",
    "                except StopIteration:\n",
    "                    # nothing remains on the left; add the right + return\n",
    "                    return result + [right_top] + list(right)\n",
    "            else:\n",
    "                result.append(right_top)\n",
    "                try:\n",
    "                    right_top = next(right)\n",
    "                except StopIteration:\n",
    "                    # nothing remains on the right; add the left + return\n",
    "                    return result + [left_top] + list(left)\n",
    "\n",
    "def merge(left, right):\n",
    "    left = iter(left)\n",
    "    right = iter(right)\n",
    "    result = []\n",
    "    # note: this takes the top items off the left and right piles\n",
    "    left_top = next(left)\n",
    "    right_top = next(right)\n",
    "    while True:\n",
    "        if left_top < right_top:\n",
    "            result.append(left_top)\n",
    "            try:\n",
    "                left_top = next(left)\n",
    "            except StopIteration:\n",
    "                # nothing remains on the left; add the right + return\n",
    "                return result + [right_top] + list(right)\n",
    "        else:\n",
    "            result.append(right_top)\n",
    "            try:\n",
    "                right_top = next(right)\n",
    "            except StopIteration:\n",
    "                # nothing remains on the right; add the left + return\n",
    "                return result + [left_top] + list(left)\n",
    "\n",
    "\n",
    "#%%\n",
    "if __name__ == '__main__':\n",
    "    \n",
    "    n_lst = [10, 1000, 10000, 10000, 1000000, 10000000]\n",
    "    time1 = []\n",
    "    time2 = []\n",
    "\n",
    "    for n in n_lst:\n",
    "        print('n = ' + str(n))\n",
    "        data = data1(n)\n",
    "        \n",
    "        t_start = perf_counter()\n",
    "\n",
    "        with multiprocessing.Pool(2) as pool:\n",
    "            sor = pool.map(alg2, [data[:len(data)//2],data[len(data)//2:]])\n",
    "            merge(sor[0],sor[1])\n",
    "        t_stop = perf_counter()\n",
    "        print('multi_threading alg2')\n",
    "        print(t_stop-t_start)\n",
    "        print('')\n",
    "        time1.append(t_stop-t_start)\n",
    "        \n",
    "        t_start = perf_counter()\n",
    "        ret2 = alg2(data)\n",
    "        t_stop = perf_counter()\n",
    "        print('original alg2')\n",
    "        print(t_stop-t_start)\n",
    "        print('')\n",
    "        time2.append(t_stop-t_start)\n",
    "\n",
    "\n",
    "    plt.plot(n_lst, time1, label='multiprocessing')\n",
    "    plt.plot(n_lst, time2, label='original')\n",
    "    plt.legend()\n",
    "    plt.title('data 1')\n",
    "    plt.show()\n"
   ]
  },
  {
   "cell_type": "markdown",
   "id": "e0107499",
   "metadata": {},
   "source": [
    "Note: the above code can not run in Jupyter Notebook. The following outputs are generated by Visual Studio Code."
   ]
  },
  {
   "cell_type": "markdown",
   "id": "a8a10462",
   "metadata": {},
   "source": [
    "![](multi_original.png)"
   ]
  },
  {
   "cell_type": "markdown",
   "id": "9e51d401",
   "metadata": {},
   "source": [
    "![](p4.png)"
   ]
  },
  {
   "cell_type": "markdown",
   "id": "efa4d64c",
   "metadata": {},
   "source": [
    "#### Compare its performance on data from the data1 function for moderate n, and discuss your findings"
   ]
  },
  {
   "cell_type": "markdown",
   "id": "7f96705a",
   "metadata": {},
   "source": [
    "From the Above graphs, we can see that when the size of input list is relatively small, for example when n <= 1e4, the original way is faster than multiprocessing. However, as the size n increases, the performance of multiprocessing method increase significantly, with an approximate two time faster performance than the original method."
   ]
  }
 ],
 "metadata": {
  "kernelspec": {
   "display_name": "Python 3 (ipykernel)",
   "language": "python",
   "name": "python3"
  },
  "language_info": {
   "codemirror_mode": {
    "name": "ipython",
    "version": 3
   },
   "file_extension": ".py",
   "mimetype": "text/x-python",
   "name": "python",
   "nbconvert_exporter": "python",
   "pygments_lexer": "ipython3",
   "version": "3.9.12"
  }
 },
 "nbformat": 4,
 "nbformat_minor": 5
}
