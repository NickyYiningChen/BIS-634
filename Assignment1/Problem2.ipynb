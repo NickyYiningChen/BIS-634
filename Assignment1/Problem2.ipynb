{
 "cells": [
  {
   "cell_type": "code",
   "execution_count": 2,
   "id": "3b72fa29",
   "metadata": {},
   "outputs": [],
   "source": [
    "import pandas as pd\n",
    "import numpy as np\n",
    "import sqlite3\n",
    "with sqlite3.connect(\"hw1-population.db\") as db:\n",
    "    data = pd.read_sql_query(\"SELECT * FROM population\", db)"
   ]
  },
  {
   "cell_type": "code",
   "execution_count": 3,
   "id": "6b9ef790",
   "metadata": {},
   "outputs": [
    {
     "data": {
      "text/html": [
       "<div>\n",
       "<style scoped>\n",
       "    .dataframe tbody tr th:only-of-type {\n",
       "        vertical-align: middle;\n",
       "    }\n",
       "\n",
       "    .dataframe tbody tr th {\n",
       "        vertical-align: top;\n",
       "    }\n",
       "\n",
       "    .dataframe thead th {\n",
       "        text-align: right;\n",
       "    }\n",
       "</style>\n",
       "<table border=\"1\" class=\"dataframe\">\n",
       "  <thead>\n",
       "    <tr style=\"text-align: right;\">\n",
       "      <th></th>\n",
       "      <th>name</th>\n",
       "      <th>age</th>\n",
       "      <th>weight</th>\n",
       "      <th>eyecolor</th>\n",
       "    </tr>\n",
       "  </thead>\n",
       "  <tbody>\n",
       "    <tr>\n",
       "      <th>0</th>\n",
       "      <td>Edna Phelps</td>\n",
       "      <td>88.895690</td>\n",
       "      <td>67.122450</td>\n",
       "      <td>brown</td>\n",
       "    </tr>\n",
       "    <tr>\n",
       "      <th>1</th>\n",
       "      <td>Cara Yasso</td>\n",
       "      <td>9.274597</td>\n",
       "      <td>29.251244</td>\n",
       "      <td>brown</td>\n",
       "    </tr>\n",
       "    <tr>\n",
       "      <th>2</th>\n",
       "      <td>Gail Rave</td>\n",
       "      <td>18.345613</td>\n",
       "      <td>55.347903</td>\n",
       "      <td>brown</td>\n",
       "    </tr>\n",
       "    <tr>\n",
       "      <th>3</th>\n",
       "      <td>Richard Adams</td>\n",
       "      <td>16.367545</td>\n",
       "      <td>70.352184</td>\n",
       "      <td>brown</td>\n",
       "    </tr>\n",
       "    <tr>\n",
       "      <th>4</th>\n",
       "      <td>Krista Slater</td>\n",
       "      <td>49.971604</td>\n",
       "      <td>70.563859</td>\n",
       "      <td>brown</td>\n",
       "    </tr>\n",
       "  </tbody>\n",
       "</table>\n",
       "</div>"
      ],
      "text/plain": [
       "            name        age     weight eyecolor\n",
       "0    Edna Phelps  88.895690  67.122450    brown\n",
       "1     Cara Yasso   9.274597  29.251244    brown\n",
       "2      Gail Rave  18.345613  55.347903    brown\n",
       "3  Richard Adams  16.367545  70.352184    brown\n",
       "4  Krista Slater  49.971604  70.563859    brown"
      ]
     },
     "execution_count": 3,
     "metadata": {},
     "output_type": "execute_result"
    }
   ],
   "source": [
    "# check columns\n",
    "data.head()"
   ]
  },
  {
   "cell_type": "code",
   "execution_count": 4,
   "id": "9c009c5e",
   "metadata": {},
   "outputs": [
    {
     "data": {
      "text/plain": [
       "152361"
      ]
     },
     "execution_count": 4,
     "metadata": {},
     "output_type": "execute_result"
    }
   ],
   "source": [
    "# check row number\n",
    "len(data)\n"
   ]
  },
  {
   "cell_type": "code",
   "execution_count": 5,
   "id": "766ea294",
   "metadata": {},
   "outputs": [
    {
     "data": {
      "text/plain": [
       "39.510527927396524"
      ]
     },
     "execution_count": 5,
     "metadata": {},
     "output_type": "execute_result"
    }
   ],
   "source": [
    "data.age.mean()"
   ]
  },
  {
   "cell_type": "code",
   "execution_count": 6,
   "id": "9d5e5c0c",
   "metadata": {},
   "outputs": [
    {
     "data": {
      "text/plain": [
       "24.152760068601445"
      ]
     },
     "execution_count": 6,
     "metadata": {},
     "output_type": "execute_result"
    }
   ],
   "source": [
    "data.age.std()"
   ]
  },
  {
   "cell_type": "code",
   "execution_count": 7,
   "id": "3d6d692e",
   "metadata": {},
   "outputs": [
    {
     "data": {
      "text/plain": [
       "0.0007476719217636152"
      ]
     },
     "execution_count": 7,
     "metadata": {},
     "output_type": "execute_result"
    }
   ],
   "source": [
    "data.age.min()"
   ]
  },
  {
   "cell_type": "code",
   "execution_count": 8,
   "id": "daa59c81",
   "metadata": {},
   "outputs": [
    {
     "data": {
      "text/plain": [
       "99.99154733076972"
      ]
     },
     "execution_count": 8,
     "metadata": {},
     "output_type": "execute_result"
    }
   ],
   "source": [
    "data.age.max()"
   ]
  },
  {
   "cell_type": "code",
   "execution_count": 15,
   "id": "55223864",
   "metadata": {},
   "outputs": [
    {
     "data": {
      "text/plain": [
       "<AxesSubplot:ylabel='Frequency'>"
      ]
     },
     "execution_count": 15,
     "metadata": {},
     "output_type": "execute_result"
    },
    {
     "data": {
      "image/png": "[encoded data removed]",
      "text/plain": [
       "<Figure size 432x288 with 1 Axes>"
      ]
     },
     "metadata": {
      "needs_background": "light"
     },
     "output_type": "display_data"
    }
   ],
   "source": [
    "data.plot.hist(column = 'age', bins = 19)"
   ]
  },
  {
   "cell_type": "code",
   "execution_count": 35,
   "id": "be2d3d68",
   "metadata": {},
   "outputs": [
    {
     "data": {
      "text/plain": [
       "60.88413415993031"
      ]
     },
     "execution_count": 35,
     "metadata": {},
     "output_type": "execute_result"
    }
   ],
   "source": [
    "data.weight.mean()"
   ]
  },
  {
   "cell_type": "code",
   "execution_count": 36,
   "id": "3c91fb84",
   "metadata": {},
   "outputs": [
    {
     "data": {
      "text/plain": [
       "18.411824265661494"
      ]
     },
     "execution_count": 36,
     "metadata": {},
     "output_type": "execute_result"
    }
   ],
   "source": [
    "data.weight.std()"
   ]
  },
  {
   "cell_type": "code",
   "execution_count": 37,
   "id": "509bddc6",
   "metadata": {},
   "outputs": [
    {
     "data": {
      "text/plain": [
       "3.3820836824389326"
      ]
     },
     "execution_count": 37,
     "metadata": {},
     "output_type": "execute_result"
    }
   ],
   "source": [
    "data.weight.min()"
   ]
  },
  {
   "cell_type": "code",
   "execution_count": 38,
   "id": "3acfd216",
   "metadata": {},
   "outputs": [
    {
     "data": {
      "text/plain": [
       "100.43579300336947"
      ]
     },
     "execution_count": 38,
     "metadata": {},
     "output_type": "execute_result"
    }
   ],
   "source": [
    "data.weight.max()"
   ]
  },
  {
   "cell_type": "code",
   "execution_count": 14,
   "id": "8262065c",
   "metadata": {},
   "outputs": [
    {
     "data": {
      "text/plain": [
       "<AxesSubplot:ylabel='Frequency'>"
      ]
     },
     "execution_count": 14,
     "metadata": {},
     "output_type": "execute_result"
    },
    {
     "data": {
      "image/png": "[encoded data removed]",
      "text/plain": [
       "<Figure size 432x288 with 1 Axes>"
      ]
     },
     "metadata": {
      "needs_background": "light"
     },
     "output_type": "display_data"
    }
   ],
   "source": [
    "data.plot.hist(column = 'weight', bins = 19)"
   ]
  },
  {
   "cell_type": "code",
   "execution_count": 22,
   "id": "2af2e86a",
   "metadata": {},
   "outputs": [
    {
     "data": {
      "text/plain": [
       "<AxesSubplot:xlabel='age', ylabel='weight'>"
      ]
     },
     "execution_count": 22,
     "metadata": {},
     "output_type": "execute_result"
    },
    {
     "data": {
      "image/png": "[encoded data removed]",
      "text/plain": [
       "<Figure size 432x288 with 1 Axes>"
      ]
     },
     "metadata": {
      "needs_background": "light"
     },
     "output_type": "display_data"
    }
   ],
   "source": [
    "data.plot.scatter(x = 'age', y = 'weight')"
   ]
  },
  {
   "cell_type": "code",
   "execution_count": 23,
   "id": "9e1e30b5",
   "metadata": {},
   "outputs": [
    {
     "name": "stdout",
     "output_type": "stream",
     "text": [
      "(array([537]),)\n"
     ]
    }
   ],
   "source": [
    "print(np.where((data['age'] > 40) & (data['weight'] < 30)))"
   ]
  },
  {
   "cell_type": "code",
   "execution_count": 24,
   "id": "a448686b",
   "metadata": {},
   "outputs": [
    {
     "data": {
      "text/plain": [
       "name        Anthony Freeman\n",
       "age                    41.3\n",
       "weight                 21.7\n",
       "eyecolor              green\n",
       "Name: 537, dtype: object"
      ]
     },
     "execution_count": 24,
     "metadata": {},
     "output_type": "execute_result"
    }
   ],
   "source": [
    "data.iloc[537]"
   ]
  },
  {
   "cell_type": "code",
   "execution_count": null,
   "id": "2c4eec5f",
   "metadata": {},
   "outputs": [],
   "source": []
  },
  {
   "cell_type": "code",
   "execution_count": null,
   "id": "eb770890",
   "metadata": {},
   "outputs": [],
   "source": []
  }
 ],
 "metadata": {
  "kernelspec": {
   "display_name": "Python 3 (ipykernel)",
   "language": "python",
   "name": "python3"
  },
  "language_info": {
   "codemirror_mode": {
    "name": "ipython",
    "version": 3
   },
   "file_extension": ".py",
   "mimetype": "text/x-python",
   "name": "python",
   "nbconvert_exporter": "python",
   "pygments_lexer": "ipython3",
   "version": "3.9.12"
  }
 },
 "nbformat": 4,
 "nbformat_minor": 5
}
