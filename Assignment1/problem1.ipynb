{
 "cells": [
  {
   "cell_type": "code",
   "execution_count": 1,
   "id": "61564abf",
   "metadata": {},
   "outputs": [
    {
     "name": "stdout",
     "output_type": "stream",
     "text": [
      "True -- i.e. not a fever\n"
     ]
    },
    {
     "data": {
      "text/plain": [
       "True"
      ]
     },
     "execution_count": 1,
     "metadata": {},
     "output_type": "execute_result"
    }
   ],
   "source": [
    "def temp_tester(normal_temp):\n",
    "    def judge_normal(temp):\n",
    "        if abs(temp - normal_temp) <= 1:\n",
    "            print('True -- i.e. not a fever')\n",
    "            return True\n",
    "\n",
    "        if abs(temp - normal_temp) > 1:\n",
    "            temp_f = normal_temp * 1.8 + 32\n",
    "            if abs(temp - temp_f) <= 1:\n",
    "                print('False -- normal in degrees F but our reference temp was in degrees C')\n",
    "            elif temp - normal_temp > 0:\n",
    "                print('False -- this would be a severe fever')\n",
    "            else:\n",
    "                print('False -- too low')\n",
    "            return False\n",
    "    return judge_normal\n",
    "\n",
    "\n",
    "human_tester = temp_tester(37)\n",
    "chicken_tester = temp_tester(41.1)\n",
    "\n",
    "chicken_tester(42)"
   ]
  },
  {
   "cell_type": "code",
   "execution_count": 2,
   "id": "bc4c71aa",
   "metadata": {},
   "outputs": [
    {
     "name": "stdout",
     "output_type": "stream",
     "text": [
      "False -- this would be a severe fever\n"
     ]
    },
    {
     "data": {
      "text/plain": [
       "False"
      ]
     },
     "execution_count": 2,
     "metadata": {},
     "output_type": "execute_result"
    }
   ],
   "source": [
    "human_tester(42)   "
   ]
  },
  {
   "cell_type": "code",
   "execution_count": 3,
   "id": "51ee5a97",
   "metadata": {},
   "outputs": [
    {
     "name": "stdout",
     "output_type": "stream",
     "text": [
      "False -- this would be a severe fever\n"
     ]
    },
    {
     "data": {
      "text/plain": [
       "False"
      ]
     },
     "execution_count": 3,
     "metadata": {},
     "output_type": "execute_result"
    }
   ],
   "source": [
    "chicken_tester(43) "
   ]
  },
  {
   "cell_type": "code",
   "execution_count": 4,
   "id": "05033b4a",
   "metadata": {},
   "outputs": [
    {
     "name": "stdout",
     "output_type": "stream",
     "text": [
      "False -- too low\n"
     ]
    },
    {
     "data": {
      "text/plain": [
       "False"
      ]
     },
     "execution_count": 4,
     "metadata": {},
     "output_type": "execute_result"
    }
   ],
   "source": [
    "human_tester(35)   "
   ]
  },
  {
   "cell_type": "code",
   "execution_count": 5,
   "id": "46863b46",
   "metadata": {},
   "outputs": [
    {
     "name": "stdout",
     "output_type": "stream",
     "text": [
      "False -- normal in degrees F but our reference temp was in degrees C\n"
     ]
    },
    {
     "data": {
      "text/plain": [
       "False"
      ]
     },
     "execution_count": 5,
     "metadata": {},
     "output_type": "execute_result"
    }
   ],
   "source": [
    "human_tester(98.6) "
   ]
  },
  {
   "cell_type": "code",
   "execution_count": null,
   "id": "30d32055",
   "metadata": {},
   "outputs": [],
   "source": []
  }
 ],
 "metadata": {
  "kernelspec": {
   "display_name": "Python 3 (ipykernel)",
   "language": "python",
   "name": "python3"
  },
  "language_info": {
   "codemirror_mode": {
    "name": "ipython",
    "version": 3
   },
   "file_extension": ".py",
   "mimetype": "text/x-python",
   "name": "python",
   "nbconvert_exporter": "python",
   "pygments_lexer": "ipython3",
   "version": "3.9.12"
  }
 },
 "nbformat": 4,
 "nbformat_minor": 5
}
