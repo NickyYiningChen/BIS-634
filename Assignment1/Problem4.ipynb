{
 "cells": [
  {
   "cell_type": "code",
   "execution_count": 1,
   "id": "0f6fa725",
   "metadata": {},
   "outputs": [],
   "source": [
    "import xml.etree.ElementTree as ET"
   ]
  },
  {
   "cell_type": "code",
   "execution_count": 2,
   "id": "2d708567",
   "metadata": {},
   "outputs": [],
   "source": [
    "tree_ = ET.parse('desc2022.xml')"
   ]
  },
  {
   "cell_type": "code",
   "execution_count": 4,
   "id": "f2cc7954",
   "metadata": {},
   "outputs": [],
   "source": [
    "root = tree_.getroot()"
   ]
  },
  {
   "cell_type": "code",
   "execution_count": 5,
   "id": "6dad7989",
   "metadata": {},
   "outputs": [
    {
     "data": {
      "text/plain": [
       "'DescriptorRecordSet'"
      ]
     },
     "execution_count": 5,
     "metadata": {},
     "output_type": "execute_result"
    }
   ],
   "source": [
    "root.tag"
   ]
  },
  {
   "cell_type": "code",
   "execution_count": 6,
   "id": "0ea8c209",
   "metadata": {},
   "outputs": [
    {
     "data": {
      "text/plain": [
       "{'LanguageCode': 'eng'}"
      ]
     },
     "execution_count": 6,
     "metadata": {},
     "output_type": "execute_result"
    }
   ],
   "source": [
    "root.attrib"
   ]
  },
  {
   "cell_type": "code",
   "execution_count": 7,
   "id": "0db9656d",
   "metadata": {},
   "outputs": [],
   "source": [
    "def getNodeByDescriptorUI(tree, targetDescriptorUI):\n",
    "    for node in tree.findall('.//DescriptorRecord'):\n",
    "        descriptorUI = node.find('./DescriptorUI').text\n",
    "        if descriptorUI == targetDescriptorUI:\n",
    "            return node\n",
    "\n",
    "    return None"
   ]
  },
  {
   "cell_type": "code",
   "execution_count": 8,
   "id": "7b0a2172",
   "metadata": {},
   "outputs": [],
   "source": [
    "def getDescriptorName(tree, targetDescriptorUI):\n",
    "    node = getNodeByDescriptorUI(tree, targetDescriptorUI)\n",
    "    if node is None:\n",
    "        return None\n",
    "\n",
    "    return node.find('./DescriptorName/String').text"
   ]
  },
  {
   "cell_type": "code",
   "execution_count": 9,
   "id": "c12b1d29",
   "metadata": {},
   "outputs": [],
   "source": [
    "def getNodeByDescriptorName(tree, targetDescriptorName):\n",
    "    for node in tree.findall('.//DescriptorRecord'):\n",
    "        descriptorName = node.find('./DescriptorName/String').text\n",
    "        if descriptorName == targetDescriptorName:\n",
    "            return node\n",
    "\n",
    "    return None"
   ]
  },
  {
   "cell_type": "code",
   "execution_count": 10,
   "id": "e7eacf91",
   "metadata": {},
   "outputs": [],
   "source": [
    "def getDescriptorUI(tree, targetDescriptorName):\n",
    "    node = getNodeByDescriptorName(tree, targetDescriptorName)\n",
    "    if node is None:\n",
    "        return None\n",
    "\n",
    "    return node.find('./DescriptorUI').text"
   ]
  },
  {
   "cell_type": "code",
   "execution_count": 11,
   "id": "cb921d5b",
   "metadata": {},
   "outputs": [],
   "source": [
    "def getSubNodes(tree, node):\n",
    "    nodeNameSet = set()\n",
    "    for treeNumberNode in node.findall('.//TreeNumberList/TreeNumber'):\n",
    "        nodeNameSet.add(treeNumberNode.text)\n",
    "\n",
    "    subNodes = set()\n",
    "    for otherNode in tree.findall('.//DescriptorRecord'):\n",
    "        for otherTreeNumberNode in otherNode.findall('.//TreeNumberList/TreeNumber'):\n",
    "            otherTreeNumberText = otherTreeNumberNode.text\n",
    "            for nodeName in nodeNameSet:\n",
    "                if otherTreeNumberText.startswith(nodeName):\n",
    "                    subNodes.add(otherNode.find('./DescriptorName/String').text)\n",
    "\n",
    "    return subNodes\n"
   ]
  },
  {
   "cell_type": "code",
   "execution_count": 12,
   "id": "341ac8c3",
   "metadata": {},
   "outputs": [],
   "source": [
    "def getTreeNumberByDescriptorName(tree, targetDescriptorName, targetDescriptorUI):\n",
    "    node1 = getNodeByDescriptorName(tree, targetDescriptorName)\n",
    "    node2 = getNodeByDescriptorUI(tree, targetDescriptorUI)\n",
    "\n",
    "    subNodeSet1 = getSubNodes(tree, node1)\n",
    "    subNodeSet2 = getSubNodes(tree, node2)\n",
    "\n",
    "    bothSet = set()\n",
    "    for subNode1 in subNodeSet1:\n",
    "        if subNode1 in subNodeSet2:\n",
    "            bothSet.add(subNode1)\n",
    "\n",
    "    return list(bothSet)"
   ]
  },
  {
   "cell_type": "code",
   "execution_count": 13,
   "id": "76708574",
   "metadata": {},
   "outputs": [
    {
     "name": "stdout",
     "output_type": "stream",
     "text": [
      "Q1: descriptorName of D007154 is Immune System Diseases\n"
     ]
    }
   ],
   "source": [
    "# Q1\n",
    "targetDescriptorUI_ = 'D007154'\n",
    "descriptorName_ = getDescriptorName(tree_, targetDescriptorUI_)\n",
    "print(f'Q1: descriptorName of {targetDescriptorUI_} is {descriptorName_}')"
   ]
  },
  {
   "cell_type": "code",
   "execution_count": 14,
   "id": "53c282ca",
   "metadata": {},
   "outputs": [
    {
     "name": "stdout",
     "output_type": "stream",
     "text": [
      "Q2: descriptorUI of Nervous System Diseases is D009422\n"
     ]
    }
   ],
   "source": [
    "# Q2\n",
    "targetDescriptorName_ = 'Nervous System Diseases'\n",
    "descriptorUI_ = getDescriptorUI(tree_, targetDescriptorName_)\n",
    "print(f'Q2: descriptorUI of {targetDescriptorName_} is {descriptorUI_}')"
   ]
  },
  {
   "cell_type": "code",
   "execution_count": 15,
   "id": "35c88d30",
   "metadata": {},
   "outputs": [
    {
     "name": "stdout",
     "output_type": "stream",
     "text": [
      "Q3: \n",
      "Autoimmune Hypophysitis\n",
      "Myasthenia Gravis, Autoimmune, Experimental\n",
      "Polyradiculoneuropathy\n",
      "POEMS Syndrome\n",
      "Autoimmune Diseases of the Nervous System\n",
      "Multiple Sclerosis, Chronic Progressive\n",
      "Myasthenia Gravis\n",
      "Lupus Vasculitis, Central Nervous System\n",
      "Giant Cell Arteritis\n",
      "Ataxia Telangiectasia\n",
      "Mevalonate Kinase Deficiency\n",
      "Kernicterus\n",
      "Nervous System Autoimmune Disease, Experimental\n",
      "Uveomeningoencephalitic Syndrome\n",
      "Microscopic Polyangiitis\n",
      "Diffuse Cerebral Sclerosis of Schilder\n",
      "Multiple Sclerosis, Relapsing-Remitting\n",
      "Encephalomyelitis, Autoimmune, Experimental\n",
      "Myelitis, Transverse\n",
      "Demyelinating Autoimmune Diseases, CNS\n",
      "Vasculitis, Central Nervous System\n",
      "Lambert-Eaton Myasthenic Syndrome\n",
      "Myasthenia Gravis, Neonatal\n",
      "Anti-N-Methyl-D-Aspartate Receptor Encephalitis\n",
      "Neuromyelitis Optica\n",
      "Multiple Sclerosis\n",
      "Neuritis, Autoimmune, Experimental\n",
      "AIDS Arteritis, Central Nervous System\n",
      "Guillain-Barre Syndrome\n",
      "Polyradiculoneuropathy, Chronic Inflammatory Demyelinating\n",
      "Miller Fisher Syndrome\n",
      "Encephalomyelitis, Acute Disseminated\n",
      "Stiff-Person Syndrome\n",
      "Leukoencephalitis, Acute Hemorrhagic\n",
      "AIDS Dementia Complex\n"
     ]
    }
   ],
   "source": [
    "# Q3\n",
    "bothSet_ = getTreeNumberByDescriptorName(tree_, targetDescriptorName_, targetDescriptorUI_)\n",
    "print('Q3: ')\n",
    "print('\\n'.join(bothSet_))"
   ]
  },
  {
   "cell_type": "code",
   "execution_count": null,
   "id": "96aa1eb4",
   "metadata": {},
   "outputs": [],
   "source": []
  }
 ],
 "metadata": {
  "kernelspec": {
   "display_name": "Python 3 (ipykernel)",
   "language": "python",
   "name": "python3"
  },
  "language_info": {
   "codemirror_mode": {
    "name": "ipython",
    "version": 3
   },
   "file_extension": ".py",
   "mimetype": "text/x-python",
   "name": "python",
   "nbconvert_exporter": "python",
   "pygments_lexer": "ipython3",
   "version": "3.9.12"
  }
 },
 "nbformat": 4,
 "nbformat_minor": 5
}
